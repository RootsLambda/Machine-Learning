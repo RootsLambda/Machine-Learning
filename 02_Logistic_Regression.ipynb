{
 "cells": [
  {
   "cell_type": "markdown",
   "metadata": {},
   "source": [
    "# 1. Logistic Regression"
   ]
  },
  {
   "cell_type": "markdown",
   "metadata": {},
   "source": [
    "# Self-programming code"
   ]
  },
  {
   "cell_type": "code",
   "execution_count": 11,
   "metadata": {},
   "outputs": [],
   "source": [
    "import numpy as np \n",
    "import matplotlib.pyplot as plt\n",
    "np.random.seed(2)\n",
    "#Data là 1 chiều : số giờ học \n",
    "X = np.array([[0.50, 0.75, 1.00, 1.25, 1.50, 1.75, 1.75, 2.00, 2.25, 2.50, \n",
    "              2.75, 3.00, 3.25, 3.50, 4.00, 4.25, 4.50, 4.75, 5.00, 5.50]])\n",
    "#Target: đậu 1, rớt 0\n",
    "y = np.array([0, 0, 0, 0, 0, 0, 1, 0, 1, 0, 1, 0, 1, 0, 1, 1, 1, 1, 1, 1])\n",
    "# Thêm x0 vào mảng và X R^20x2\n",
    "X = np.concatenate((np.ones((1, 20)), X), axis = 0)"
   ]
  },
  {
   "cell_type": "code",
   "execution_count": 12,
   "metadata": {},
   "outputs": [
    {
     "name": "stdout",
     "output_type": "stream",
     "text": [
      "[[-4.092695  ]\n",
      " [ 1.55277242]]\n"
     ]
    }
   ],
   "source": [
    "def sigmoid(s):\n",
    "    return 1/(1 + np.exp(-s))\n",
    "def logistic_sigmoid_regression(X, y, w_init, eta):\n",
    "    w = [w_init]    \n",
    "    N = X.shape[1]#N=20\n",
    "    d = X.shape[0]#d=2\n",
    "    count = 0\n",
    "    check_w_after = 20\n",
    "    tol=1e-4\n",
    "    max_count = 10000\n",
    "\n",
    "    while count < max_count:\n",
    "        # Dùng Stochastic Gradient Descent nên random ngẫu nhiên xi, yi\n",
    "        mix_id = np.random.permutation(N)# Tạo mix để trộn 20 số\n",
    "        for i in mix_id:\n",
    "            xi = X[:, i].reshape(d, 1)#R^2x1\n",
    "            yi = y[i]\n",
    "            zi = sigmoid(np.dot(w[-1].T, xi))# w[-1] là ma trận R^2x1 và -1 ý là lấy hàng cuối cùng \n",
    "            w_new = w[-1] + eta*(yi - zi)*xi\n",
    "            count += 1\n",
    "            if count%check_w_after == 0:                \n",
    "                if np.linalg.norm(w_new - w[-check_w_after]) < tol:\n",
    "                    return w\n",
    "            w.append(w_new)\n",
    "    return w\n",
    "w_init = np.random.randn(2, 1)\n",
    "d=X.shape[0]\n",
    "eta = 0.05     \n",
    "w = logistic_sigmoid_regression(X, y, w_init, eta)\n",
    "print(w[-1])   "
   ]
  },
  {
   "cell_type": "code",
   "execution_count": 13,
   "metadata": {},
   "outputs": [
    {
     "name": "stdout",
     "output_type": "stream",
     "text": [
      "[[0.03501592 0.05078108 0.07310642 0.10416972 0.14634799 0.20175793\n",
      "  0.20175793 0.27147534 0.35458234 0.4475032  0.54424128 0.63775242\n",
      "  0.72188183 0.79282004 0.89267823 0.92460236 0.94758783 0.96384008\n",
      "  0.97518471 0.9884283 ]]\n"
     ]
    }
   ],
   "source": [
    "def proba(t):\n",
    "     xs_1=sigmoid(np.dot(w[-1].T, t)).reshape(-1,1)\n",
    "     xs_0=1-xs_1\n",
    "     return np.concatenate((xs_1,xs_0),axis=1)    \n",
    "print(sigmoid(np.dot(w[-1].T, X)))"
   ]
  },
  {
   "cell_type": "code",
   "execution_count": 15,
   "metadata": {},
   "outputs": [
    {
     "data": {
      "image/png": "[encoded data removed]",
      "text/plain": [
       "<Figure size 432x288 with 1 Axes>"
      ]
     },
     "metadata": {
      "needs_background": "light"
     },
     "output_type": "display_data"
    }
   ],
   "source": [
    "#Tạo xx và y_pro để vẽ đồ thị xác xuất\n",
    "xx = np.linspace(0, 6, 1000)\n",
    "one=np.ones((1,1000))\n",
    "xx_bar=np.vstack((one,xx))\n",
    "y_proba=proba(xx_bar)\n",
    "#Vẽ đường ranh giới với p>=0.5 sẽ thuộc lớp 1 p<=0.5 thuộc lớp 0\n",
    "w0 = w[-1][0][0]\n",
    "w1 = w[-1][1][0]\n",
    "boundary = -w0/w1\n",
    "\n",
    "plt.plot(X.T[y==0], y[y==0], 'ro', markersize = 8)\n",
    "plt.plot(X.T[y==1], y[y==1], 'bs', markersize = 8)\n",
    "plt.plot(xx,y_proba[:,1],'r--',linewidth = 2,label=\"Rớt\")\n",
    "plt.plot(xx,y_proba[:,0], 'g-', linewidth = 2,label=\"Đậu\")\n",
    "plt.plot([boundary,boundary], [-0.2,1.2], 'k:', markersize = 8)\n",
    "plt.xlabel('Thời gian học')\n",
    "plt.ylabel('Xác xuất')\n",
    "plt.axis([0, 6, -0.02, 1.02])\n",
    "plt.legend(loc=\"center left\")\n",
    "plt.show()"
   ]
  },
  {
   "cell_type": "markdown",
   "metadata": {},
   "source": [
    "# Sử dụng thư viện scikit - learn"
   ]
  },
  {
   "cell_type": "code",
   "execution_count": 5,
   "metadata": {
    "id": "6AOL3R1bOcnC"
   },
   "outputs": [],
   "source": [
    "from sklearn import datasets"
   ]
  },
  {
   "cell_type": "code",
   "execution_count": 6,
   "metadata": {
    "colab": {
     "base_uri": "https://localhost:8080/"
    },
    "executionInfo": {
     "elapsed": 378,
     "status": "ok",
     "timestamp": 1644412078159,
     "user": {
      "displayName": "Quốc Đồng Minh",
      "photoUrl": "https://lh3.googleusercontent.com/a-/AOh14GhDL-R9e3hHtHjRmBNkDgXFgIx9LkZF1M0_mETj=s64",
      "userId": "05098965037959705023"
     },
     "user_tz": -420
    },
    "id": "dvgK9liIPpXy",
    "outputId": "77a14923-eb0c-476e-f3c3-a3b783950ba1"
   },
   "outputs": [
    {
     "data": {
      "text/plain": [
       "['data',\n",
       " 'target',\n",
       " 'frame',\n",
       " 'target_names',\n",
       " 'DESCR',\n",
       " 'feature_names',\n",
       " 'filename',\n",
       " 'data_module']"
      ]
     },
     "execution_count": 6,
     "metadata": {},
     "output_type": "execute_result"
    }
   ],
   "source": [
    "iris = datasets.load_iris()\n",
    "list(iris.keys())"
   ]
  },
  {
   "cell_type": "code",
   "execution_count": 7,
   "metadata": {
    "colab": {
     "base_uri": "https://localhost:8080/"
    },
    "executionInfo": {
     "elapsed": 375,
     "status": "ok",
     "timestamp": 1644412080387,
     "user": {
      "displayName": "Quốc Đồng Minh",
      "photoUrl": "https://lh3.googleusercontent.com/a-/AOh14GhDL-R9e3hHtHjRmBNkDgXFgIx9LkZF1M0_mETj=s64",
      "userId": "05098965037959705023"
     },
     "user_tz": -420
    },
    "id": "XLAWomUxPtTx",
    "outputId": "ac4eb823-de6d-491e-e611-fb0c6d7c782d"
   },
   "outputs": [
    {
     "name": "stdout",
     "output_type": "stream",
     "text": [
      "[0 0 0 0 0 0 0 0 0 0 0 0 0 0 0 0 0 0 0 0 0 0 0 0 0 0 0 0 0 0 0 0 0 0 0 0 0\n",
      " 0 0 0 0 0 0 0 0 0 0 0 0 0 1 1 1 1 1 1 1 1 1 1 1 1 1 1 1 1 1 1 1 1 1 1 1 1\n",
      " 1 1 1 1 1 1 1 1 1 1 1 1 1 1 1 1 1 1 1 1 1 1 1 1 1 1 2 2 2 2 2 2 2 2 2 2 2\n",
      " 2 2 2 2 2 2 2 2 2 2 2 2 2 2 2 2 2 2 2 2 2 2 2 2 2 2 2 2 2 2 2 2 2 2 2 2 2\n",
      " 2 2]\n"
     ]
    },
    {
     "name": "stderr",
     "output_type": "stream",
     "text": [
      "C:\\Users\\AM\\Anaconda3\\lib\\site-packages\\ipykernel_launcher.py:2: DeprecationWarning: `np.int` is a deprecated alias for the builtin `int`. To silence this warning, use `int` by itself. Doing this will not modify any behavior and is safe. When replacing `np.int`, you may wish to use e.g. `np.int64` or `np.int32` to specify the precision. If you wish to review your current use, check the release note link for additional information.\n",
      "Deprecated in NumPy 1.20; for more details and guidance: https://numpy.org/devdocs/release/1.20.0-notes.html#deprecations\n",
      "  \n"
     ]
    }
   ],
   "source": [
    " X = iris[\"data\"][:,3:]#Lấy data thứ 3 nghĩa là chỉ lấy chiều rộng cánh hoa\n",
    " y = (iris[\"target\"] == 2).astype(np.int)# Thay thế label 2 là 1 và còn lại là 0\n",
    " print(iris.target)"
   ]
  },
  {
   "cell_type": "code",
   "execution_count": 8,
   "metadata": {
    "colab": {
     "base_uri": "https://localhost:8080/"
    },
    "executionInfo": {
     "elapsed": 375,
     "status": "ok",
     "timestamp": 1644412229408,
     "user": {
      "displayName": "Quốc Đồng Minh",
      "photoUrl": "https://lh3.googleusercontent.com/a-/AOh14GhDL-R9e3hHtHjRmBNkDgXFgIx9LkZF1M0_mETj=s64",
      "userId": "05098965037959705023"
     },
     "user_tz": -420
    },
    "id": "B8H89iiQi73F",
    "outputId": "cba4e369-0bb3-486d-b881-89cdc76ac7b7"
   },
   "outputs": [
    {
     "data": {
      "text/plain": [
       "LogisticRegression(random_state=42)"
      ]
     },
     "execution_count": 8,
     "metadata": {},
     "output_type": "execute_result"
    }
   ],
   "source": [
    "from sklearn.linear_model import LogisticRegression\n",
    "log_reg = LogisticRegression(solver=\"lbfgs\", random_state=42)#lbfgs là bộ giải toán học để tối ưu thuật toán\n",
    "log_reg.fit(X, y)"
   ]
  },
  {
   "cell_type": "code",
   "execution_count": 9,
   "metadata": {
    "colab": {
     "base_uri": "https://localhost:8080/",
     "height": 282
    },
    "executionInfo": {
     "elapsed": 28,
     "status": "ok",
     "timestamp": 1644412287506,
     "user": {
      "displayName": "Quốc Đồng Minh",
      "photoUrl": "https://lh3.googleusercontent.com/a-/AOh14GhDL-R9e3hHtHjRmBNkDgXFgIx9LkZF1M0_mETj=s64",
      "userId": "05098965037959705023"
     },
     "user_tz": -420
    },
    "id": "DXWSmhiji-ra",
    "outputId": "da00094a-56ed-4695-cf9e-9ff6867dede1"
   },
   "outputs": [
    {
     "data": {
      "image/png": "[encoded data removed]",
      "text/plain": [
       "<Figure size 432x288 with 1 Axes>"
      ]
     },
     "metadata": {
      "needs_background": "light"
     },
     "output_type": "display_data"
    }
   ],
   "source": [
    "X_new = np.linspace(0, 3, 100).reshape(-1, 1)#Tạo X_new để vẽ hàm xác xuất sigmoid\n",
    "y_proba = log_reg.predict_proba(X_new)\n",
    "decision_boundary = X_new[y_proba[:, 1] >= 0.5][0]\n",
    "\n",
    "plt.plot([decision_boundary, decision_boundary], [-1, 2], \"k:\", linewidth=2)\n",
    "plt.plot(X_new, y_proba[:, 1], \"g-\", linewidth=2, label=\"Iris virginica\")\n",
    "plt.plot(X_new, y_proba[:, 0], \"b--\", linewidth=2, label=\"Not Iris virginica\")\n",
    "plt.plot(X[y==0], y[y==0], \"bs\")\n",
    "plt.plot(X[y==1], y[y==1], \"g^\")\n",
    "plt.legend(loc=\"center left\", fontsize=14)\n",
    "plt.axis([0, 3, -0.02, 1.02])\n",
    "plt.show()"
   ]
  },
  {
   "cell_type": "code",
   "execution_count": 16,
   "metadata": {
    "colab": {
     "base_uri": "https://localhost:8080/"
    },
    "executionInfo": {
     "elapsed": 410,
     "status": "ok",
     "timestamp": 1644412295755,
     "user": {
      "displayName": "Quốc Đồng Minh",
      "photoUrl": "https://lh3.googleusercontent.com/a-/AOh14GhDL-R9e3hHtHjRmBNkDgXFgIx9LkZF1M0_mETj=s64",
      "userId": "05098965037959705023"
     },
     "user_tz": -420
    },
    "id": "JPD47VY7m88b",
    "outputId": "602c5408-d137-4c02-d1cb-204f11da33b9"
   },
   "outputs": [
    {
     "data": {
      "text/plain": [
       "array([1.66666667])"
      ]
     },
     "execution_count": 16,
     "metadata": {},
     "output_type": "execute_result"
    }
   ],
   "source": [
    "decision_boundary"
   ]
  },
  {
   "cell_type": "code",
   "execution_count": 17,
   "metadata": {
    "colab": {
     "base_uri": "https://localhost:8080/"
    },
    "executionInfo": {
     "elapsed": 372,
     "status": "ok",
     "timestamp": 1644412299673,
     "user": {
      "displayName": "Quốc Đồng Minh",
      "photoUrl": "https://lh3.googleusercontent.com/a-/AOh14GhDL-R9e3hHtHjRmBNkDgXFgIx9LkZF1M0_mETj=s64",
      "userId": "05098965037959705023"
     },
     "user_tz": -420
    },
    "id": "QN2XoxcpnCOh",
    "outputId": "57c27860-224d-4437-9f23-5a64f13728c1"
   },
   "outputs": [
    {
     "data": {
      "text/plain": [
       "array([1, 0])"
      ]
     },
     "execution_count": 17,
     "metadata": {},
     "output_type": "execute_result"
    }
   ],
   "source": [
    "log_reg.predict([[1.7], [1.5]])"
   ]
  },
  {
   "cell_type": "code",
   "execution_count": null,
   "metadata": {},
   "outputs": [],
   "source": []
  }
 ],
 "metadata": {
  "colab": {
   "authorship_tag": "ABX9TyP5020kxQ7P14tSSV6ZqdcL",
   "name": "Logistic_Regression.ipynb",
   "provenance": []
  },
  "kernelspec": {
   "display_name": "Python 3",
   "language": "python",
   "name": "python3"
  },
  "language_info": {
   "codemirror_mode": {
    "name": "ipython",
    "version": 3
   },
   "file_extension": ".py",
   "mimetype": "text/x-python",
   "name": "python",
   "nbconvert_exporter": "python",
   "pygments_lexer": "ipython3",
   "version": "3.7.0"
  }
 },
 "nbformat": 4,
 "nbformat_minor": 1
}
