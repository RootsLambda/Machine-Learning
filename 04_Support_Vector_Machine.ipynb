{
 "cells": [
  {
   "cell_type": "markdown",
   "metadata": {},
   "source": [
    "# 1. Support Vector Machine"
   ]
  },
  {
   "cell_type": "markdown",
   "metadata": {},
   "source": [
    "# 2. Self of programming"
   ]
  },
  {
   "cell_type": "markdown",
   "metadata": {},
   "source": [
    "## Hard Margin"
   ]
  },
  {
   "cell_type": "code",
   "execution_count": 16,
   "metadata": {},
   "outputs": [
    {
     "data": {
      "image/png": "[encoded data removed]",
      "text/plain": [
       "<Figure size 432x288 with 1 Axes>"
      ]
     },
     "metadata": {
      "needs_background": "light"
     },
     "output_type": "display_data"
    }
   ],
   "source": [
    "import numpy as np \n",
    "import matplotlib.pyplot as plt\n",
    "\n",
    "np.random.seed(42)\n",
    "\n",
    "means = [[2, 2], [4, 2]]\n",
    "cov = [[0.3, 0.2], [0.2, 0.3]]\n",
    "N = 10\n",
    "X0 = np.random.multivariate_normal(means[0], cov, N) # class 1 R^10x2\n",
    "X1 = np.random.multivariate_normal(means[1], cov, N) # class -1 \n",
    "X = np.concatenate((X0.T, X1.T), axis = 1) # all data # R^2x20\n",
    "y = np.concatenate((np.ones((1, N)), -1*np.ones((1, N))), axis = 1) # labels R^1x20 10 số đầu là 1 và 10 số sau là -1\n",
    "plt.plot(X0[:,0],X0[:,1],\"rs\")\n",
    "plt.plot(X1[:,0],X1[:,1],\"b^\")\n",
    "plt.xlabel(\"$x_0$\",fontsize=20)\n",
    "plt.ylabel(\"$x_1$\",fontsize=20)\n",
    "plt.show()"
   ]
  },
  {
   "cell_type": "code",
   "execution_count": 17,
   "metadata": {},
   "outputs": [
    {
     "name": "stdout",
     "output_type": "stream",
     "text": [
      "lambda = \n",
      "[[8.02142046e-10 2.07333700e-09 1.34580085e-09 1.99339351e-09\n",
      "  1.26140452e-09 2.91207988e-09 1.57928804e-08 1.99019311e-07\n",
      "  2.42135293e-09 2.83906384e+00 1.65757169e+00 1.55311561e-09\n",
      "  2.21241617e-09 1.22625284e-09 1.41030567e-09 1.18149236e+00\n",
      "  1.58860421e-09 3.03662189e-09 1.64406082e-09 9.12681045e-10]]\n"
     ]
    }
   ],
   "source": [
    "\"\"\" \n",
    "    Hàm mục tiêu: 1/2*x^T*P*x+q^T*x= 1/2||x||\n",
    "    Ràng buộc:    1-yn(w^T*x+b) <= 0\n",
    "                 V=[x1y1,x2y2,...,xnyn]\n",
    "\"\"\" \n",
    "from cvxopt import matrix, solvers\n",
    "V = np.concatenate((X0.T, -X1.T), axis = 1)# R^2x20\n",
    "#K=V^T*V=P Ma trận K là ma trận toàn phương\n",
    "K = matrix(V.T.dot(V)) # R^20x20\n",
    "#Ma trận hệ số của q^T \n",
    "p = matrix(-np.ones((2*N, 1))) # R^20x1\n",
    "# Tạo ma trận đơn vị R^20x20\n",
    "#Gx<=h\n",
    "G = matrix(-np.eye(2*N)) # for all lambda_n >= 0\n",
    "#Tạo ma trận 0 R^20x1\n",
    "h = matrix(np.zeros((2*N, 1))) \n",
    "#Ax=b điều kiện KTT\n",
    "A = matrix(y) # R^1x20\n",
    "b = matrix(np.zeros((1, 1))) #R^1x1\n",
    "solvers.options['show_progress'] = False\n",
    "sol = solvers.qp(K, p, G, h, A, b)\n",
    "\n",
    "l = np.array(sol['x'])\n",
    "print('lambda = ')\n",
    "print(l.T)\n"
   ]
  },
  {
   "cell_type": "code",
   "execution_count": 18,
   "metadata": {},
   "outputs": [
    {
     "name": "stdout",
     "output_type": "stream",
     "text": [
      "w =  [[-2.22765777  0.84597327]]\n",
      "b =  5.3613255312069175\n"
     ]
    },
    {
     "data": {
      "image/png": "[encoded data removed]",
      "text/plain": [
       "<Figure size 432x288 with 1 Axes>"
      ]
     },
     "metadata": {
      "needs_background": "light"
     },
     "output_type": "display_data"
    }
   ],
   "source": [
    "tol = 1e-6 # just a small number, greater than 1e-9\n",
    "#Tập S chứa vector support là lambda khác 0\n",
    "loc_S = np.where(l > tol)[0] # Tìm vị trí của tập S\n",
    "# Lấy ma trận V,X,y, lambda những vị trí của tập S\n",
    "V_S = V[:, loc_S]\n",
    "X_S = X[:, loc_S]\n",
    "y_S = y[:, loc_S]\n",
    "Lambda_S = l[loc_S]\n",
    "# Tính toán w và b\n",
    "w = V_S.dot(Lambda_S)\n",
    "b = np.mean(y_S.T - w.T.dot(X_S))\n",
    "\n",
    "print('w = ', w.T)\n",
    "print('b = ', b)\n",
    "\n",
    "x=np.linspace(-1,14,100)\n",
    "y1=-w[0]*x/w[1]-b/w[1]\n",
    "#Vẽ 2 đường support y=1 và y=-1\n",
    "y2=-w[0]*x/w[1]-(b+1)/w[1]\n",
    "y3=-w[0]*x/w[1]-(b-1)/w[1]\n",
    "\n",
    "plt.plot(X0[:,0],X0[:,1],\"rs\")\n",
    "plt.plot(X1[:,0],X1[:,1],\"b^\")\n",
    "plt.xlabel(\"$x_0$\",fontsize=20)\n",
    "plt.ylabel(\"$x_1$\",fontsize=20)\n",
    "plt.plot(x,y1,\"m\",linewidth=3)\n",
    "plt.plot(x,y2,\"k--\")\n",
    "plt.plot(x,y3,\"k--\")\n",
    "plt.axis([1,5,1,3])\n",
    "plt.show()"
   ]
  },
  {
   "cell_type": "code",
   "execution_count": 19,
   "metadata": {},
   "outputs": [
    {
     "name": "stdout",
     "output_type": "stream",
     "text": [
      "w =  [[-2.22771703  0.84609359]]\n",
      "b =  [5.36127952]\n"
     ]
    }
   ],
   "source": [
    "#Giải Hard SVM bằng Scikit learn\n",
    "from sklearn.svm import SVC\n",
    "\n",
    "y1 = y.reshape((2*N,))\n",
    "X1 = X.T \n",
    "\n",
    "clf = SVC(kernel = 'linear', C = 1e5) # just a big number \n",
    "clf.fit(X1, y1) \n",
    "\n",
    "w = clf.coef_\n",
    "b = clf.intercept_\n",
    "print('w = ', w)\n",
    "print('b = ', b)\n"
   ]
  },
  {
   "cell_type": "markdown",
   "metadata": {},
   "source": [
    "## Soft Margin"
   ]
  },
  {
   "cell_type": "code",
   "execution_count": 20,
   "metadata": {},
   "outputs": [
    {
     "data": {
      "text/plain": [
       "Text(0, 0.5, '$x_2$')"
      ]
     },
     "execution_count": 20,
     "metadata": {},
     "output_type": "execute_result"
    },
    {
     "data": {
      "image/png": "[encoded data removed]",
      "text/plain": [
       "<Figure size 432x288 with 1 Axes>"
      ]
     },
     "metadata": {
      "needs_background": "light"
     },
     "output_type": "display_data"
    }
   ],
   "source": [
    "# Soft SVM\n",
    "import numpy as np \n",
    "import matplotlib.pyplot as plt\n",
    "from scipy.spatial.distance import cdist\n",
    "np.random.seed(92)\n",
    "\n",
    "means = [[2, 2], [4, 1]]\n",
    "cov = [[0.3, 0.2], [0.2, 0.3]]\n",
    "N = 10\n",
    "X0 = np.random.multivariate_normal(means[0], cov, N)\n",
    "X1 = np.random.multivariate_normal(means[1], cov, N)\n",
    "X1[-1, :] = [2.7, 2]#cho hàng cuối bằng 2 giá trị là ngoại lai\n",
    "X = np.concatenate((X0.T, X1.T), axis = 1)#R^2x20\n",
    "y = np.concatenate((np.ones((1, N)), -1*np.ones((1, N))), axis = 1)#R^1x20\n",
    "plt.plot(X0[:,0],X0[:,1],'bs',alpha=1)\n",
    "plt.plot(X1[:,0],X1[:,1],'ro',alpha=1)\n",
    "plt.xlabel(\"$x_1$\",fontsize=20)\n",
    "plt.ylabel(\"$x_2$\",fontsize=20)"
   ]
  },
  {
   "cell_type": "code",
   "execution_count": 21,
   "metadata": {},
   "outputs": [],
   "source": [
    "X = np.vstack((X0, X1))# R^20x2\n",
    "y = np.vstack((np.ones((N,1 )), -np.ones((N,1 )))).reshape((2*N,))"
   ]
  },
  {
   "cell_type": "code",
   "execution_count": 22,
   "metadata": {},
   "outputs": [],
   "source": [
    "\"\"\"Giải bài toán bằng đối ngẫu langrage\n",
    "   Hàm mục tiêu:  1/2*x^T*P*x+q^T*x= 1/2||x|| + C*sum(ζ_i)\n",
    "   Ràng buộc:     1-ζ_i-yn(w^T*x+b) <= 0\n",
    "\"\"\"\n",
    "from cvxopt import matrix, solvers\n",
    "# build K\n",
    "V = np.concatenate((X0.T, -X1.T), axis = 1)\n",
    "K = matrix(V.T.dot(V))\n",
    "\n",
    "p = matrix(-np.ones((2*N, 1)))\n",
    "# build A, b, G, h\n",
    "#Nối 2 ma trận đơn vị thẳng đứng\n",
    "G = matrix(np.vstack((-np.eye(2*N), np.eye(2*N))))\n",
    "C=100\n",
    "\n",
    "h = matrix(np.vstack((np.zeros((2*N, 1)), C*np.ones((2*N, 1)))))\n",
    "A = matrix(y.reshape((-1, 2*N))) \n",
    "b = matrix(np.zeros((1, 1))) \n",
    "solvers.options['show_progress'] = False\n",
    "sol = solvers.qp(K, p, G, h, A, b)\n",
    "\n",
    "l = np.array(sol['x'])\n",
    "#print('lambda = \\n', l.T)\n"
   ]
  },
  {
   "cell_type": "code",
   "execution_count": 23,
   "metadata": {},
   "outputs": [
    {
     "name": "stdout",
     "output_type": "stream",
     "text": [
      "[[-2.12912478  1.04929285]] 4.731797191666871\n"
     ]
    },
    {
     "data": {
      "image/png": "[encoded data removed]",
      "text/plain": [
       "<Figure size 432x288 with 1 Axes>"
      ]
     },
     "metadata": {
      "needs_background": "light"
     },
     "output_type": "display_data"
    }
   ],
   "source": [
    "S = np.where(l > 1e-5)[0]\n",
    "S2 = np.where(l < 0.99*C)[0]\n",
    "# tập M thõa 0 < lamda< C\n",
    "M = [val for val in S if val in S2]\n",
    "# Tìm b dựa vào lambda trong tập S và V trong tập S\n",
    " \n",
    "V_S = V[:, S]\n",
    "lambda_S = l[S]\n",
    "\n",
    "#Tìm b dựa vào y trong tập M và x trong tập M\n",
    "X_T = X.T\n",
    "y_M = y[M]\n",
    "X_M = X_T[:, M]\n",
    "w_dual = V_S.dot(lambda_S).reshape(-1, 1)\n",
    "b_dual = np.mean(y_M.T - w_dual.T.dot(X_M))\n",
    "print(w_dual.T, b_dual)\n",
    "\n",
    "plt.plot(X0[:,0],X0[:,1],'bs',alpha=1)\n",
    "plt.plot(X1[:,0],X1[:,1],'ro',alpha=1)\n",
    "plt.xlabel(\"$x_1$\",fontsize=20)\n",
    "plt.ylabel(\"$x_2$\",fontsize=20)\n",
    "x1=np.arange(-10,10,0.1)\n",
    "y1=-w_dual[0]/w_dual[1]*x1-b_dual/w_dual[1]\n",
    "y2=-w_dual[0]/w_dual[1]*x1-(b_dual-1)/w_dual[1]\n",
    "y3=-w_dual[0]/w_dual[1]*x1-(b_dual+1)/w_dual[1]\n",
    "plt.plot(x1,y1,\"c\",linewidth=4)\n",
    "plt.plot(x1,y2,'k--')\n",
    "plt.plot(x1,y3,'k--')\n",
    "plt.axis([1 ,5, -1 ,4])\n",
    "plt.show()"
   ]
  },
  {
   "cell_type": "markdown",
   "metadata": {},
   "source": [
    "## Hàm hinge loss"
   ]
  },
  {
   "cell_type": "code",
   "execution_count": 24,
   "metadata": {},
   "outputs": [
    {
     "name": "stdout",
     "output_type": "stream",
     "text": [
      "Gradient difference: 0.000000\n"
     ]
    }
   ],
   "source": [
    "#Sử dụng gradient descent của hàm hinge loss\n",
    "\n",
    "X0_bar = np.vstack((X0.T, np.ones((1, N)))) # extended data\n",
    "X1_bar = np.vstack((X1.T, np.ones((1, N)))) # extended data \n",
    "\n",
    "Z = np.hstack((X0_bar, - X1_bar)) # as in (22)\n",
    "C=100\n",
    "lam = 1./C\n",
    "\n",
    "def cost(w):\n",
    "    u = w.T.dot(Z) # as in (23)\n",
    "    return (np.sum(np.maximum(0, 1 - u)) + \\\n",
    "            0.5*lam*np.sum(w*w)) - 0.5*lam*w[-1]*w[-1]\n",
    "\n",
    "def grad(w):\n",
    "    u = w.T.dot(Z) # as in (23)\n",
    "    H = np.where(u < 1)[1]\n",
    "    ZS = Z[:, H]\n",
    "    g = (-np.sum(ZS, axis = 1, keepdims = True) + lam*w)#???\n",
    "    g[-1] -= lam*w[-1]\n",
    "    return g\n",
    "\n",
    "eps = 1e-6\n",
    "#Đạo hàm 2 phương\n",
    "def num_grad(w):\n",
    "    g = np.zeros_like(w)\n",
    "    for i in range(len(w)):\n",
    "        wp = w.copy()\n",
    "        wm = w.copy()\n",
    "        wp[i] += eps \n",
    "        wm[i] -= eps \n",
    "        g[i] = (cost(wp) - cost(wm))/(2*eps)\n",
    "    return g \n",
    "\n",
    "w0 = np.random.randn(X0_bar.shape[0], 1) \n",
    "g1 = grad(w0)\n",
    "g2 = num_grad(w0)\n",
    "#Kiểm tra giá trị có giống nhau hông\n",
    "diff = np.linalg.norm(g1 - g2)\n",
    "print('Gradient difference: %f' %diff)"
   ]
  },
  {
   "cell_type": "code",
   "execution_count": 25,
   "metadata": {},
   "outputs": [
    {
     "name": "stdout",
     "output_type": "stream",
     "text": [
      "iter 1 cost: 21.770047\n",
      "iter 10001 cost: 2.915473\n",
      "iter 20001 cost: 2.901139\n",
      "iter 30001 cost: 2.885548\n",
      "iter 40001 cost: 2.884159\n",
      "iter 50001 cost: 2.865176\n",
      "iter 60001 cost: 2.859287\n",
      "iter 70001 cost: 2.857077\n",
      "iter 80001 cost: 2.840772\n",
      "iter 90001 cost: 2.829617\n"
     ]
    },
    {
     "data": {
      "text/plain": [
       "array([[-2.01173031],\n",
       "       [ 1.28333225]])"
      ]
     },
     "execution_count": 25,
     "metadata": {},
     "output_type": "execute_result"
    }
   ],
   "source": [
    "def grad_descent(w0, eta):\n",
    "    w = w0\n",
    "    it = 0 \n",
    "    while it < 100000:\n",
    "        it = it + 1\n",
    "        g = grad(w)\n",
    "        w -= eta*g\n",
    "        if (it % 10000) == 1:\n",
    "            print('iter %d' %it + ' cost: %f' %cost(w))\n",
    "        if np.linalg.norm(g) < 1e-5:\n",
    "            break \n",
    "    return w \n",
    "w0 = np.random.randn(X0_bar.shape[0], 1) \n",
    "w = grad_descent(w0, 0.001)\n",
    "w_hinge = w[:-1].reshape(-1, 1)\n",
    "b_hinge = w[-1]\n",
    "w_hinge"
   ]
  },
  {
   "cell_type": "code",
   "execution_count": 26,
   "metadata": {},
   "outputs": [
    {
     "data": {
      "text/plain": [
       "(array([[-2.12892755],\n",
       "        [ 1.04922362]]), 4.831714286705087)"
      ]
     },
     "execution_count": 26,
     "metadata": {},
     "output_type": "execute_result"
    }
   ],
   "source": [
    "from sklearn.svm import SVC\n",
    "C = 100\n",
    "clf = SVC(kernel = 'linear', C = 100)\n",
    "clf.fit(X, y) \n",
    "\n",
    "w = clf.coef_.reshape(-1, 1)\n",
    "b = clf.intercept_[0]\n",
    "w,b"
   ]
  },
  {
   "cell_type": "code",
   "execution_count": 28,
   "metadata": {},
   "outputs": [
    {
     "name": "stdout",
     "output_type": "stream",
     "text": [
      "[[-2.12912478  1.04929285]] 4.731797191666871\n",
      "[[-2.01173031  1.28333225]] [4.14103495]\n",
      "[[-2.12892755  1.04922362]] 4.831714286705087\n"
     ]
    }
   ],
   "source": [
    "print(w_dual.T, b_dual) \n",
    "print(w_hinge.T, b_hinge)\n",
    "print(w.T, b)"
   ]
  },
  {
   "cell_type": "markdown",
   "metadata": {},
   "source": [
    "## Kernel SVM"
   ]
  },
  {
   "cell_type": "code",
   "execution_count": 5,
   "metadata": {},
   "outputs": [
    {
     "data": {
      "text/plain": [
       "<matplotlib.contour.QuadContourSet at 0xb764d90>"
      ]
     },
     "execution_count": 5,
     "metadata": {},
     "output_type": "execute_result"
    },
    {
     "data": {
      "image/png": "[encoded data removed]",
      "text/plain": [
       "<Figure size 432x288 with 1 Axes>"
      ]
     },
     "metadata": {
      "needs_background": "light"
     },
     "output_type": "display_data"
    }
   ],
   "source": [
    "# Kernel SVM với bài toán XOR\n",
    "import numpy as np\n",
    "import matplotlib.pyplot as plt\n",
    "from sklearn import svm\n",
    "X = np.c_[(0, 0),(1, 1),(1, 0),(0, 1)].T\n",
    "Y = [0] * 2 + [1] * 2\n",
    "clf = svm.SVC(kernel='sigmoid', gamma=4, coef0 = 1)\n",
    "clf.fit(X, Y)\n",
    "\n",
    "plt.plot(X[:2, 0], X[:2, 1], 'ro', markersize = 8)\n",
    "plt.plot(X[2:, 0], X[2:, 1], 'bs', markersize = 8)\n",
    "x_min = -2\n",
    "x_max = 3\n",
    "y_min = -2\n",
    "y_max = 3\n",
    "# Tạo 200 số cách đều ở trục j(trục x) từ min đến max giống linspace\n",
    "# XX R^200x200 và XY cũng R^200x200\n",
    "XX,YY= np.mgrid[x_min:x_max:200j, y_min:y_max:200j]\n",
    "# XX.ravel() R^1x40000 200 số -2,...,200 số 3\n",
    "X_c=np.c_[XX.ravel(), YY.ravel()]\n",
    "# X_c R^40000x2\n",
    "Z = clf.decision_function(X_c)\n",
    "# Z R^200x200\n",
    "Z = Z.reshape(XX.shape)\n",
    "Z.shape \n",
    "#Hàm xác định dấu chia các miền ra\n",
    "CS = plt.contourf(XX, YY, np.sign(Z), alpha = .2)\n",
    "#Vẽ 3 đường: boundary, upper,lower \n",
    "plt.contour(XX, YY, Z, colors=['k', 'k', 'k'], linestyles=['--', '-', '--'],levels=[-.5, 0, .5])"
   ]
  },
  {
   "cell_type": "code",
   "execution_count": 29,
   "metadata": {},
   "outputs": [
    {
     "data": {
      "image/png": "[encoded data removed]",
      "text/plain": [
       "<Figure size 432x288 with 1 Axes>"
      ]
     },
     "metadata": {
      "needs_background": "light"
     },
     "output_type": "display_data"
    }
   ],
   "source": [
    "import numpy as np\n",
    "import matplotlib.pyplot as plt\n",
    "from sklearn import svm\n",
    "\n",
    "\n",
    "X = np.c_[(-1, -3),(0, -2),(1, -2),(2, 1),(3, 0),(1.5, 1.4),(1, 3),(0.5, -1),(-1, 2),(-2, -1.5),(-2, 0),(-1.5, -1.2)].T\n",
    "N = 6\n",
    "Y = [0] * N + [1] * N\n",
    "plt.plot(X[:N, 0], X[:N, 1], 'bs', markersize = 8)\n",
    "plt.plot(X[N:, 0], X[N:, 1], 'ro', markersize = 8)\n",
    "plt.show()"
   ]
  },
  {
   "cell_type": "code",
   "execution_count": 30,
   "metadata": {},
   "outputs": [
    {
     "data": {
      "image/png": "[encoded data removed]",
      "text/plain": [
       "<Figure size 432x288 with 1 Axes>"
      ]
     },
     "metadata": {
      "needs_background": "light"
     },
     "output_type": "display_data"
    }
   ],
   "source": [
    "clf = svm.SVC(kernel='sigmoid', gamma=1, coef0 = 1)\n",
    "clf.fit(X, Y)\n",
    "x_min = -3\n",
    "x_max = 4\n",
    "y_min = -3\n",
    "y_max = 4\n",
    "# Tạo 200 số cách đều ở trục j(trục x) từ min đến max giống linspace\n",
    "# XX R^200x200 và XY cũng R^200x200\n",
    "XX,YY= np.mgrid[x_min:x_max:200j, y_min:y_max:200j]\n",
    "# XX.ravel() R^1x40000 200 số -2,...,200 số 3\n",
    "X_c=np.c_[XX.ravel(), YY.ravel()]\n",
    "# X_c R^40000x2\n",
    "Z = clf.decision_function(X_c)\n",
    "# Z R^200x200\n",
    "Z = Z.reshape(XX.shape)\n",
    "Z.shape \n",
    "plt.plot(X[:N, 0], X[:N, 1], 'bs', markersize = 8)\n",
    "plt.plot(X[N:, 0], X[N:, 1], 'ro', markersize = 8)\n",
    "\n",
    "#Hàm xác định dấu chia các miền ra\n",
    "CS = plt.contourf(XX, YY, np.sign(Z), alpha = 0.2)\n",
    "#Vẽ 3 đường: boundary, upper,lower \n",
    "plt.contour(XX, YY, Z, colors=['k', 'k', 'k'], linestyles=['--', '-', '--'],levels=[-0.5, 0, 0.5])\n",
    "plt.show()"
   ]
  },
  {
   "cell_type": "markdown",
   "metadata": {},
   "source": [
    ">**Polynomial SVM** "
   ]
  },
  {
   "cell_type": "code",
   "execution_count": 75,
   "metadata": {},
   "outputs": [
    {
     "data": {
      "image/png": "[encoded data removed]",
      "text/plain": [
       "<Figure size 432x288 with 1 Axes>"
      ]
     },
     "metadata": {
      "needs_background": "light"
     },
     "output_type": "display_data"
    }
   ],
   "source": [
    "from sklearn.datasets import make_moons\n",
    "X, y = make_moons(n_samples=100, noise=0.15, random_state=42)\n",
    "def plot_moon(X):\n",
    "    plt.plot(X[:, 0][y==0], X[:, 1][y==0], \"bs\")\n",
    "    plt.plot(X[:, 0][y==1], X[:, 1][y==1], \"g^\")\n",
    "    plt.xlabel(\"$x_1$\", fontsize=20)\n",
    "    plt.ylabel(\"$x_2$\", fontsize=20, rotation=0)\n",
    "    plt.axis([-1.5,2.5,-1,1.5])\n",
    "    plt.show()\n",
    "plot_moon(X)"
   ]
  },
  {
   "cell_type": "code",
   "execution_count": 86,
   "metadata": {},
   "outputs": [
    {
     "name": "stderr",
     "output_type": "stream",
     "text": [
      "C:\\Users\\AM\\Anaconda3\\lib\\site-packages\\sklearn\\svm\\_base.py:1208: ConvergenceWarning: Liblinear failed to converge, increase the number of iterations.\n",
      "  ConvergenceWarning,\n"
     ]
    },
    {
     "data": {
      "text/plain": [
       "LinearSVC(C=3, loss='hinge', random_state=42)"
      ]
     },
     "execution_count": 86,
     "metadata": {},
     "output_type": "execute_result"
    }
   ],
   "source": [
    "from sklearn.preprocessing import PolynomialFeatures\n",
    "from sklearn.svm import LinearSVC\n",
    "from sklearn.pipeline import Pipeline\n",
    "from sklearn.preprocessing import StandardScaler\n",
    "# poly=PolynomialFeatures(degree=3)\n",
    "# X_poly=poly.fit_transform(X)\n",
    "# svm_clf=LinearSVC(C=3, loss=\"hinge\", random_state=42)\n",
    "# svm_clf.fit(X_poly,y)???\n",
    "polynomial_svm_clf = Pipeline([\n",
    "        (\"poly_features\", PolynomialFeatures(degree=3)),\n",
    "        (\"scaler\", StandardScaler()),\n",
    "        (\"svm_clf\", LinearSVC(C=10, loss=\"hinge\", random_state=42))\n",
    "    ])\n",
    "\n",
    "polynomial_svm_clf.fit(X, y)"
   ]
  },
  {
   "cell_type": "code",
   "execution_count": 97,
   "metadata": {},
   "outputs": [
    {
     "data": {
      "image/png": "[encoded data removed]",
      "text/plain": [
       "<Figure size 432x288 with 1 Axes>"
      ]
     },
     "metadata": {
      "needs_background": "light"
     },
     "output_type": "display_data"
    }
   ],
   "source": [
    "x0s = np.linspace(-1.5, 2.5, 100)\n",
    "x1s = np.linspace(-1, 1.5, 100)\n",
    "x0, x1 = np.meshgrid(x0s, x1s)\n",
    "X_new = np.c_[x0.ravel(), x1.ravel()]\n",
    "y_pred =polynomial_svm_clf.predict(X_new).reshape(x0.shape)\n",
    "y_decision = polynomial_svm_clf.decision_function(X_new).reshape(x0.shape)\n",
    "plt.contourf(x0, x1, y_pred, cmap=plt.cm.brg, alpha=0.2)\n",
    "plt.contourf(x0, x1, y_decision, cmap=plt.cm.brg, alpha=0.1)\n",
    "plot_moon(X)"
   ]
  },
  {
   "cell_type": "code",
   "execution_count": null,
   "metadata": {},
   "outputs": [],
   "source": []
  }
 ],
 "metadata": {
  "kernelspec": {
   "display_name": "Python 3",
   "language": "python",
   "name": "python3"
  },
  "language_info": {
   "codemirror_mode": {
    "name": "ipython",
    "version": 3
   },
   "file_extension": ".py",
   "mimetype": "text/x-python",
   "name": "python",
   "nbconvert_exporter": "python",
   "pygments_lexer": "ipython3",
   "version": "3.7.0"
  }
 },
 "nbformat": 4,
 "nbformat_minor": 2
}
