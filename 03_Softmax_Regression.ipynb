{
 "cells": [
  {
   "cell_type": "markdown",
   "metadata": {},
   "source": [
    "# 1. Softmax Regression"
   ]
  },
  {
   "cell_type": "markdown",
   "metadata": {},
   "source": [
    "# Self - Programming "
   ]
  },
  {
   "cell_type": "code",
   "execution_count": 59,
   "metadata": {
    "colab": {
     "base_uri": "https://localhost:8080/"
    },
    "executionInfo": {
     "elapsed": 376,
     "status": "ok",
     "timestamp": 1644484147739,
     "user": {
      "displayName": "Quốc Đồng Minh",
      "photoUrl": "https://lh3.googleusercontent.com/a-/AOh14GhDL-R9e3hHtHjRmBNkDgXFgIx9LkZF1M0_mETj=s64",
      "userId": "05098965037959705023"
     },
     "user_tz": -420
    },
    "id": "JkhfbfmFONQb",
    "outputId": "e17eb91a-8c37-4268-a6e4-a88ca7b4b5f7"
   },
   "outputs": [
    {
     "data": {
      "text/plain": [
       "((2, 2), (2,))"
      ]
     },
     "execution_count": 59,
     "metadata": {},
     "output_type": "execute_result"
    }
   ],
   "source": [
    "import numpy as np \n",
    " \n",
    "N = 2 # number of training sample \n",
    "d = 2 # data dimension \n",
    "C = 3 # number of classes \n",
    "\n",
    "X = np.random.randn(d, N)\n",
    "y = np.random.randint(0, 3, (N,))\n",
    "X.shape,y.shape"
   ]
  },
  {
   "cell_type": "code",
   "execution_count": 60,
   "metadata": {
    "colab": {
     "base_uri": "https://localhost:8080/"
    },
    "executionInfo": {
     "elapsed": 14,
     "status": "ok",
     "timestamp": 1644484149308,
     "user": {
      "displayName": "Quốc Đồng Minh",
      "photoUrl": "https://lh3.googleusercontent.com/a-/AOh14GhDL-R9e3hHtHjRmBNkDgXFgIx9LkZF1M0_mETj=s64",
      "userId": "05098965037959705023"
     },
     "user_tz": -420
    },
    "id": "eyud7WcaPqfe",
    "outputId": "5779cc6b-54bf-443a-d0c8-3daf547d84f3"
   },
   "outputs": [],
   "source": [
    "## One-hot coding\n",
    "from scipy import sparse \n",
    "def convert_labels(y, C = C):\n",
    "    \"\"\"\n",
    "    convert 1d label to a matrix label: each column of this \n",
    "    matrix coresponding to 1 element in y. In i-th column of Y, \n",
    "    only one non-zeros element located in the y[i]-th position, \n",
    "    and = 1 ex: y = [0, 2, 1, 0], and 3 classes then return\n",
    "\n",
    "            [[1, 0, 0, 1],\n",
    "             [0, 0, 1, 0],\n",
    "             [0, 1, 0, 0]]\n",
    "    \"\"\"\n",
    "    Y = sparse.coo_matrix((np.ones_like(y),(y, np.arange(len(y)))), shape = (C, len(y))).toarray()\n",
    "    return Y \n",
    "\n",
    "Y = convert_labels(y, C=3)"
   ]
  },
  {
   "cell_type": "code",
   "execution_count": 61,
   "metadata": {
    "executionInfo": {
     "elapsed": 437,
     "status": "ok",
     "timestamp": 1644484154128,
     "user": {
      "displayName": "Quốc Đồng Minh",
      "photoUrl": "https://lh3.googleusercontent.com/a-/AOh14GhDL-R9e3hHtHjRmBNkDgXFgIx9LkZF1M0_mETj=s64",
      "userId": "05098965037959705023"
     },
     "user_tz": -420
    },
    "id": "6JbN8zNNP7Pw"
   },
   "outputs": [],
   "source": [
    "import numpy as np \n",
    "\n",
    "def softmax(Z):\n",
    "    e_Z = np.exp(Z)\n",
    "    A = e_Z / e_Z.sum(axis = 0)\n",
    "    return A"
   ]
  },
  {
   "cell_type": "code",
   "execution_count": 62,
   "metadata": {
    "executionInfo": {
     "elapsed": 552,
     "status": "ok",
     "timestamp": 1644484157896,
     "user": {
      "displayName": "Quốc Đồng Minh",
      "photoUrl": "https://lh3.googleusercontent.com/a-/AOh14GhDL-R9e3hHtHjRmBNkDgXFgIx9LkZF1M0_mETj=s64",
      "userId": "05098965037959705023"
     },
     "user_tz": -420
    },
    "id": "4_e5L4ZP5JuW"
   },
   "outputs": [],
   "source": [
    "def softmax_stable(Z):\n",
    "    e_Z = np.exp(Z - np.max(Z, axis = 0, keepdims = True))\n",
    "    A = e_Z / e_Z.sum(axis = 0)\n",
    "    return A"
   ]
  },
  {
   "cell_type": "code",
   "execution_count": 63,
   "metadata": {
    "colab": {
     "base_uri": "https://localhost:8080/"
    },
    "executionInfo": {
     "elapsed": 439,
     "status": "ok",
     "timestamp": 1644484161666,
     "user": {
      "displayName": "Quốc Đồng Minh",
      "photoUrl": "https://lh3.googleusercontent.com/a-/AOh14GhDL-R9e3hHtHjRmBNkDgXFgIx9LkZF1M0_mETj=s64",
      "userId": "05098965037959705023"
     },
     "user_tz": -420
    },
    "id": "j9J81LwmPYj7",
    "outputId": "213bf7bc-e1f0-4c91-bde4-0f5f3a137fbe"
   },
   "outputs": [
    {
     "name": "stdout",
     "output_type": "stream",
     "text": [
      "5.899109331615169e-10\n"
     ]
    }
   ],
   "source": [
    "def cost(X, Y, W):\n",
    "    A = softmax(W.T.dot(X))\n",
    "    return -np.sum(Y*np.log(A))\n",
    "\n",
    "W_init = np.random.randn(d, C)\n",
    "\n",
    "def grad(X, Y, W):\n",
    "    A = softmax((W.T.dot(X)))\n",
    "    E = A - Y\n",
    "    return X.dot(E.T)\n",
    "    \n",
    "def numerical_grad(X, Y, W, cost):\n",
    "    eps = 1e-6\n",
    "    g = np.zeros_like(W)\n",
    "    for i in range(W.shape[0]):\n",
    "        for j in range(W.shape[1]):\n",
    "            W_p = W.copy()\n",
    "            W_n = W.copy()\n",
    "            W_p[i, j] += eps \n",
    "            W_n[i, j] -= eps\n",
    "            g[i,j] = (cost(X, Y, W_p) - cost(X, Y, W_n))/(2*eps)\n",
    "    return g \n",
    "\n",
    "g1 = grad(X, Y, W_init)\n",
    "g2 = numerical_grad(X, Y, W_init, cost)\n",
    "\n",
    "print(np.linalg.norm(g1 - g2))"
   ]
  },
  {
   "cell_type": "code",
   "execution_count": 64,
   "metadata": {
    "executionInfo": {
     "elapsed": 404,
     "status": "ok",
     "timestamp": 1644484165846,
     "user": {
      "displayName": "Quốc Đồng Minh",
      "photoUrl": "https://lh3.googleusercontent.com/a-/AOh14GhDL-R9e3hHtHjRmBNkDgXFgIx9LkZF1M0_mETj=s64",
      "userId": "05098965037959705023"
     },
     "user_tz": -420
    },
    "id": "_vm1PpUOQEw1"
   },
   "outputs": [],
   "source": [
    "def softmax_regression(X, y, W_init, eta, tol = 1e-4, max_count = 10000):\n",
    "    W = [W_init]    \n",
    "    C = W_init.shape[1]\n",
    "    Y = convert_labels(y, C)\n",
    "    it = 0\n",
    "    N = X.shape[1]\n",
    "    d = X.shape[0]\n",
    "    count = 0\n",
    "    check_w_after = 20\n",
    "    \n",
    "    while count < max_count:\n",
    "        # mix data \n",
    "        mix_id = np.random.permutation(N)\n",
    "        for i in mix_id:\n",
    "            xi = X[:, i].reshape(d, 1)\n",
    "            yi = Y[:, i].reshape(C, 1)\n",
    "            ai = softmax(np.dot(W[-1].T, xi))\n",
    "            W_new = W[-1] + eta*xi.dot((yi - ai).T)\n",
    "            count += 1\n",
    "            # stopping criteria\n",
    "            if count%check_w_after == 0:                \n",
    "                if np.linalg.norm(W_new - W[-check_w_after]) < tol:\n",
    "                    return W\n",
    "            W.append(W_new)\n",
    "    return W\n",
    "eta = 0.05 \n",
    "d = X.shape[0]\n",
    "W_init = np.random.randn(2, 3)\n",
    "\n",
    "W = softmax_regression(X, y, W_init, eta)\n",
    "# W[-1] is the solution, W is all history of weights"
   ]
  },
  {
   "cell_type": "code",
   "execution_count": 65,
   "metadata": {
    "executionInfo": {
     "elapsed": 401,
     "status": "ok",
     "timestamp": 1644484170291,
     "user": {
      "displayName": "Quốc Đồng Minh",
      "photoUrl": "https://lh3.googleusercontent.com/a-/AOh14GhDL-R9e3hHtHjRmBNkDgXFgIx9LkZF1M0_mETj=s64",
      "userId": "05098965037959705023"
     },
     "user_tz": -420
    },
    "id": "rcev7i0aQIvm"
   },
   "outputs": [],
   "source": [
    "def pred(W, X):\n",
    "    A = softmax_stable(W.T.dot(X))\n",
    "    return np.argmax(A, axis = 0)"
   ]
  },
  {
   "cell_type": "code",
   "execution_count": 66,
   "metadata": {
    "colab": {
     "base_uri": "https://localhost:8080/",
     "height": 265
    },
    "executionInfo": {
     "elapsed": 595,
     "status": "ok",
     "timestamp": 1644484608389,
     "user": {
      "displayName": "Quốc Đồng Minh",
      "photoUrl": "https://lh3.googleusercontent.com/a-/AOh14GhDL-R9e3hHtHjRmBNkDgXFgIx9LkZF1M0_mETj=s64",
      "userId": "05098965037959705023"
     },
     "user_tz": -420
    },
    "id": "oo6LdEwIQON9",
    "outputId": "60254814-c0a6-4880-ecac-ec3076ea1780"
   },
   "outputs": [
    {
     "data": {
      "image/png": "[encoded data removed]",
      "text/plain": [
       "<Figure size 432x288 with 1 Axes>"
      ]
     },
     "metadata": {
      "needs_background": "light"
     },
     "output_type": "display_data"
    }
   ],
   "source": [
    "means = [[2, 2], [8, 3], [3, 6]]\n",
    "cov = [[1, 0], [0, 1]]\n",
    "N = 100\n",
    "X0 = np.random.multivariate_normal(means[0], cov, N)\n",
    "X1 = np.random.multivariate_normal(means[1], cov, N)\n",
    "X2 = np.random.multivariate_normal(means[2], cov, N)\n",
    "\n",
    "# each column is a datapoint\n",
    "X = np.concatenate((X0, X1, X2), axis = 0).T \n",
    "# extended data\n",
    "X = np.concatenate((np.ones((1, 3*N)), X), axis = 0)\n",
    "C = 3\n",
    "\n",
    "original_label = np.asarray([0]*N + [1]*N + [2]*N).T\n",
    "plt.plot(X0[:, 0], X0[:, 1], 'b^', markersize = 4, alpha = 0.8)\n",
    "plt.plot(X1[:, 0], X1[:, 1], 'go', markersize = 4, alpha = 0.8)\n",
    "plt.plot(X2[:, 0], X2[:, 1], 'rs', markersize = 4, alpha = 0.8);"
   ]
  },
  {
   "cell_type": "code",
   "execution_count": 67,
   "metadata": {
    "colab": {
     "base_uri": "https://localhost:8080/"
    },
    "executionInfo": {
     "elapsed": 7,
     "status": "ok",
     "timestamp": 1644484627957,
     "user": {
      "displayName": "Quốc Đồng Minh",
      "photoUrl": "https://lh3.googleusercontent.com/a-/AOh14GhDL-R9e3hHtHjRmBNkDgXFgIx9LkZF1M0_mETj=s64",
      "userId": "05098965037959705023"
     },
     "user_tz": -420
    },
    "id": "9qGSsIxPQR5v",
    "outputId": "cd90cca1-74d1-4879-b63b-f4c7d7226ab3"
   },
   "outputs": [
    {
     "name": "stdout",
     "output_type": "stream",
     "text": [
      "[[ 9.11025861 -3.37340122 -3.51402275]\n",
      " [-2.01256364  0.59534132 -1.60691873]\n",
      " [-1.13920995 -0.97709821  1.86073374]]\n"
     ]
    }
   ],
   "source": [
    "W_init = np.random.randn(X.shape[0], C)\n",
    "W = softmax_regression(X, original_label, W_init, eta)\n",
    "print(W[-1])"
   ]
  },
  {
   "cell_type": "markdown",
   "metadata": {},
   "source": [
    "# Sử dụng thư viện scikit - learn"
   ]
  },
  {
   "cell_type": "code",
   "execution_count": 1,
   "metadata": {
    "colab": {
     "base_uri": "https://localhost:8080/"
    },
    "executionInfo": {
     "elapsed": 1020,
     "status": "ok",
     "timestamp": 1644483083838,
     "user": {
      "displayName": "Quốc Đồng Minh",
      "photoUrl": "https://lh3.googleusercontent.com/a-/AOh14GhDL-R9e3hHtHjRmBNkDgXFgIx9LkZF1M0_mETj=s64",
      "userId": "05098965037959705023"
     },
     "user_tz": -420
    },
    "id": "6wTjKcyU1GN3",
    "outputId": "5f2bed52-c4b3-4a71-99ad-2c706bda2dc3"
   },
   "outputs": [],
   "source": [
    "from sklearn import datasets\n",
    "iris = datasets.load_iris()"
   ]
  },
  {
   "cell_type": "markdown",
   "metadata": {},
   "source": [
    "<img align=\"left\" width=\"500\" height=\"500\" src=\"images/Iris.png\">"
   ]
  },
  {
   "cell_type": "code",
   "execution_count": 17,
   "metadata": {},
   "outputs": [
    {
     "data": {
      "text/plain": [
       "(150, 4)"
      ]
     },
     "execution_count": 17,
     "metadata": {},
     "output_type": "execute_result"
    }
   ],
   "source": [
    "iris['data'].shape"
   ]
  },
  {
   "cell_type": "code",
   "execution_count": 11,
   "metadata": {
    "colab": {
     "base_uri": "https://localhost:8080/"
    },
    "executionInfo": {
     "elapsed": 408,
     "status": "ok",
     "timestamp": 1644483340471,
     "user": {
      "displayName": "Quốc Đồng Minh",
      "photoUrl": "https://lh3.googleusercontent.com/a-/AOh14GhDL-R9e3hHtHjRmBNkDgXFgIx9LkZF1M0_mETj=s64",
      "userId": "05098965037959705023"
     },
     "user_tz": -420
    },
    "id": "P56903Kb1Oj9",
    "outputId": "1eb70cc7-c85a-40cc-b46e-d902c0b00e72"
   },
   "outputs": [
    {
     "data": {
      "text/plain": [
       "LogisticRegression(C=10, multi_class='multinomial', random_state=42)"
      ]
     },
     "execution_count": 11,
     "metadata": {},
     "output_type": "execute_result"
    }
   ],
   "source": [
    "from sklearn.linear_model import LogisticRegression\n",
    "X = iris[\"data\"][:,2:]  # petal length, petal width\n",
    "y = iris[\"target\"]\n",
    "softmax_reg = LogisticRegression(multi_class=\"multinomial\",solver=\"lbfgs\", C=10, random_state=42)\n",
    "softmax_reg.fit(X, y)"
   ]
  },
  {
   "cell_type": "code",
   "execution_count": 21,
   "metadata": {
    "colab": {
     "base_uri": "https://localhost:8080/",
     "height": 287
    },
    "executionInfo": {
     "elapsed": 1216,
     "status": "ok",
     "timestamp": 1644483613350,
     "user": {
      "displayName": "Quốc Đồng Minh",
      "photoUrl": "https://lh3.googleusercontent.com/a-/AOh14GhDL-R9e3hHtHjRmBNkDgXFgIx9LkZF1M0_mETj=s64",
      "userId": "05098965037959705023"
     },
     "user_tz": -420
    },
    "id": "VdGD7X4s2Gpu",
    "outputId": "ce904e7a-37b6-40b2-bd69-a78b6bbeb4fc"
   },
   "outputs": [
    {
     "data": {
      "image/png": "[encoded data removed]",
      "text/plain": [
       "<Figure size 720x288 with 1 Axes>"
      ]
     },
     "metadata": {
      "needs_background": "light"
     },
     "output_type": "display_data"
    }
   ],
   "source": [
    "import matplotlib.pyplot as plt\n",
    "X0=np.linspace(0, 8, 500).reshape(-1, 1)\n",
    "X1=np.linspace(0, 3.5, 200).reshape(-1, 1)\n",
    "x0, x1 = np.meshgrid(X0,X1)\n",
    "X_new = np.c_[x0.ravel(), x1.ravel()]\n",
    "X_new.shape\n",
    "\n",
    "y_proba = softmax_reg.predict_proba(X_new)\n",
    "y_predict = softmax_reg.predict(X_new)\n",
    "\n",
    "zz1 = y_proba[:, 1].reshape(x0.shape)\n",
    "zz = y_predict.reshape(x0.shape)\n",
    "\n",
    "plt.figure(figsize=(10, 4))\n",
    "plt.plot(X[y==2, 0], X[y==2, 1], \"g^\", label=\"Iris virginica\")\n",
    "plt.plot(X[y==1, 0], X[y==1, 1], \"bs\", label=\"Iris versicolor\")\n",
    "plt.plot(X[y==0, 0], X[y==0, 1], \"yo\", label=\"Iris setosa\")\n",
    "\n",
    "from matplotlib.colors import ListedColormap\n",
    "custom_cmap = ListedColormap(['#fafab0','#9898ff','#a0faa0'])\n",
    "plt.contourf(x0, x1, zz, cmap=custom_cmap)\n",
    "contour = plt.contour(x0, x1, zz1, cmap=plt.cm.brg)\n",
    "plt.clabel(contour, inline=1, fontsize=12)\n",
    "plt.xlabel(\"Petal length\", fontsize=14)\n",
    "plt.ylabel(\"Petal width\", fontsize=14)\n",
    "plt.legend(loc=\"center left\", fontsize=14)\n",
    "plt.axis([0, 7, 0, 3.5])\n",
    "plt.show()"
   ]
  },
  {
   "cell_type": "code",
   "execution_count": null,
   "metadata": {},
   "outputs": [],
   "source": []
  }
 ],
 "metadata": {
  "colab": {
   "authorship_tag": "ABX9TyMbpIk8xB1sG6d+M6gPs5S+",
   "name": "Softmax_Regression.ipynb",
   "provenance": []
  },
  "kernelspec": {
   "display_name": "Python 3",
   "language": "python",
   "name": "python3"
  },
  "language_info": {
   "codemirror_mode": {
    "name": "ipython",
    "version": 3
   },
   "file_extension": ".py",
   "mimetype": "text/x-python",
   "name": "python",
   "nbconvert_exporter": "python",
   "pygments_lexer": "ipython3",
   "version": "3.7.0"
  }
 },
 "nbformat": 4,
 "nbformat_minor": 1
}
