{
 "cells": [
  {
   "cell_type": "markdown",
   "metadata": {
    "id": "XkqlYP24oTQ7"
   },
   "source": [
    "# 1. Thuật toán cây quyết định"
   ]
  },
  {
   "cell_type": "markdown",
   "metadata": {
    "id": "YwUkBP0GKRzb"
   },
   "source": [
    "## Cho bài toán phân loại"
   ]
  },
  {
   "cell_type": "code",
   "execution_count": null,
   "metadata": {
    "id": "c7oejiIL7iUA"
   },
   "outputs": [],
   "source": [
    "from __future__ import print_function \n",
    "import numpy as np \n",
    "import pandas as pd \n",
    "\n",
    "class TreeNode(object):\n",
    "    def __init__(self, ids = None, children = [], entropy = 0, depth = 0):\n",
    "        self.ids = ids           # index of data in this node\n",
    "        self.entropy = entropy   # entropy, will fill later\n",
    "        self.depth = depth       # distance to root node\n",
    "        self.split_attribute = None # which attribute is chosen, it non-leaf\n",
    "        self.children = children # list of its child nodes\n",
    "        self.order = None       # order of values of split_attribute in children\n",
    "        self.label = None       # label of node if it is a leaf\n",
    "\n",
    "    def set_properties(self, split_attribute, order):\n",
    "        self.split_attribute = split_attribute\n",
    "        self.order = order\n",
    "\n",
    "    def set_label(self, label):\n",
    "        self.label = label\n",
    "        "
   ]
  },
  {
   "cell_type": "code",
   "execution_count": null,
   "metadata": {
    "id": "AiVCX6Ny7iHH"
   },
   "outputs": [],
   "source": [
    "def entropy(freq):\n",
    "    # remove prob 0 \n",
    "    freq_0 = freq[np.array(freq).nonzero()[0]]\n",
    "    prob_0 = freq_0/float(freq_0.sum())\n",
    "    return -np.sum(prob_0*np.log(prob_0))"
   ]
  },
  {
   "cell_type": "code",
   "execution_count": null,
   "metadata": {
    "id": "YjW8rCVT7h4N"
   },
   "outputs": [],
   "source": [
    "class DecisionTreeID3(object):\n",
    "    def __init__(self, max_depth= 10, min_samples_split = 2, min_gain = 1e-4):\n",
    "        self.root = None\n",
    "        self.max_depth = max_depth \n",
    "        self.min_samples_split = min_samples_split \n",
    "        self.Ntrain = 0\n",
    "        self.min_gain = min_gain\n",
    "    \n",
    "    def fit(self, data, target):\n",
    "        self.Ntrain = data.count()[0]\n",
    "        self.data = data \n",
    "        self.attributes = list(data)\n",
    "        self.target = target \n",
    "        self.labels = target.unique()\n",
    "        \n",
    "        ids = range(self.Ntrain)\n",
    "        self.root = TreeNode(ids = ids, entropy = self._entropy(ids), depth = 0)\n",
    "        queue = [self.root]\n",
    "        while queue:\n",
    "            node = queue.pop()\n",
    "            if node.depth < self.max_depth or node.entropy < self.min_gain:\n",
    "                node.children = self._split(node)\n",
    "                if not node.children: #leaf node\n",
    "                    self._set_label(node)\n",
    "                queue += node.children\n",
    "            else:\n",
    "                self._set_label(node)\n",
    "                \n",
    "    def _entropy(self, ids):\n",
    "        # calculate entropy of a node with index ids\n",
    "        if len(ids) == 0: return 0\n",
    "        ids = [i+1 for i in ids] # panda series index starts from 1\n",
    "        freq = np.array(self.target[ids].value_counts())\n",
    "        return entropy(freq)\n",
    "\n",
    "    def _set_label(self, node):\n",
    "        # find label for a node if it is a leaf\n",
    "        # simply chose by major voting \n",
    "        target_ids = [i + 1 for i in node.ids]  # target is a series variable\n",
    "        node.set_label(self.target[target_ids].mode()[0]) # most frequent label\n",
    "    \n",
    "    def _split(self, node):\n",
    "        ids = node.ids \n",
    "        best_gain = 0\n",
    "        best_splits = []\n",
    "        best_attribute = None\n",
    "        order = None\n",
    "        sub_data = self.data.iloc[ids, :]\n",
    "        for i, att in enumerate(self.attributes):\n",
    "            values = self.data.iloc[ids, i].unique().tolist()\n",
    "            if len(values) == 1: continue # entropy = 0\n",
    "            splits = []\n",
    "            for val in values: \n",
    "                sub_ids = sub_data.index[sub_data[att] == val].tolist()\n",
    "                splits.append([sub_id-1 for sub_id in sub_ids])\n",
    "            # don't split if a node has too small number of points\n",
    "            if min(map(len, splits)) < self.min_samples_split: continue\n",
    "            # information gain\n",
    "            HxS= 0\n",
    "            for split in splits:\n",
    "                HxS += len(split)*self._entropy(split)/len(ids)\n",
    "            gain = node.entropy - HxS \n",
    "            if gain < self.min_gain: continue # stop if small gain \n",
    "            if gain > best_gain:\n",
    "                best_gain = gain \n",
    "                best_splits = splits\n",
    "                best_attribute = att\n",
    "                order = values\n",
    "        node.set_properties(best_attribute, order)\n",
    "        child_nodes = [TreeNode(ids = split,\n",
    "                     entropy = self._entropy(split), depth = node.depth + 1) for split in best_splits]\n",
    "        return child_nodes\n",
    "\n",
    "    def predict(self, new_data):\n",
    "        \"\"\"\n",
    "        :param new_data: a new dataframe, each row is a datapoint\n",
    "        :return: predicted labels for each row\n",
    "        \"\"\"\n",
    "        npoints = new_data.count()[0]\n",
    "        labels = [None]*npoints\n",
    "        for n in range(npoints):\n",
    "            x = new_data.iloc[n, :] # one point \n",
    "            # start from root and recursively travel if not meet a leaf \n",
    "            node = self.root\n",
    "            while node.children: \n",
    "                node = node.children[node.order.index(x[node.split_attribute])]\n",
    "            labels[n] = node.label\n",
    "            \n",
    "        return labels"
   ]
  },
  {
   "cell_type": "code",
   "execution_count": null,
   "metadata": {
    "colab": {
     "base_uri": "https://localhost:8080/"
    },
    "executionInfo": {
     "elapsed": 596,
     "status": "ok",
     "timestamp": 1646817146491,
     "user": {
      "displayName": "Chiến Minh",
      "photoUrl": "https://lh3.googleusercontent.com/a-/AOh14Ggt54BBzGmy7cmla1J7CdWaL9h-BTd5yyEhH_54=s64",
      "userId": "10937921414809841299"
     },
     "user_tz": -420
    },
    "id": "xzIe5F6w7hVw",
    "outputId": "c54fe4f5-0b25-49fb-afae-f475c4c7995a"
   },
   "outputs": [
    {
     "name": "stdout",
     "output_type": "stream",
     "text": [
      "['no', 'no', 'yes', 'yes', 'yes', 'no', 'yes', 'no', 'yes', 'yes', 'yes', 'yes', 'yes', 'no']\n"
     ]
    }
   ],
   "source": [
    "if __name__ == \"__main__\":\n",
    "    df = pd.read_csv('weather.csv', index_col = 0, parse_dates = True)\n",
    "    X = df.iloc[:, :-1]\n",
    "    y = df.iloc[:, -1]\n",
    "    tree = DecisionTreeID3(max_depth = 2, min_samples_split = 2)\n",
    "    tree.fit(X, y)\n",
    "    print(tree.predict(X))"
   ]
  },
  {
   "cell_type": "code",
   "execution_count": null,
   "metadata": {
    "id": "wTbVM3l5xpiU"
   },
   "outputs": [],
   "source": [
    "import numpy as np \n",
    "import pandas as pd \n",
    "df = pd.read_csv('weather.csv', index_col = 0, parse_dates = True)\n",
    "X = df.iloc[:, :-1]\n",
    "y = df.iloc[:, -1]"
   ]
  },
  {
   "cell_type": "code",
   "execution_count": null,
   "metadata": {
    "id": "8byFMk_ru78Q"
   },
   "outputs": [],
   "source": [
    " ids=range(14)\n",
    " ids = [i+1 for i in ids]\n",
    " ids\n",
    " freq=y[ids].value_counts()\n",
    " freq=np.array(freq)"
   ]
  },
  {
   "cell_type": "code",
   "execution_count": null,
   "metadata": {
    "colab": {
     "base_uri": "https://localhost:8080/"
    },
    "executionInfo": {
     "elapsed": 363,
     "status": "ok",
     "timestamp": 1646831620335,
     "user": {
      "displayName": "Chiến Minh",
      "photoUrl": "https://lh3.googleusercontent.com/a-/AOh14Ggt54BBzGmy7cmla1J7CdWaL9h-BTd5yyEhH_54=s64",
      "userId": "10937921414809841299"
     },
     "user_tz": -420
    },
    "id": "0ky-q0CoyPRC",
    "outputId": "de44b32b-90d1-4e50-98a2-9ad996022254"
   },
   "outputs": [
    {
     "data": {
      "text/plain": [
       "array([0, 1])"
      ]
     },
     "execution_count": 39,
     "metadata": {},
     "output_type": "execute_result"
    }
   ],
   "source": [
    "np.array(freq).nonzero()[0]"
   ]
  },
  {
   "cell_type": "code",
   "execution_count": null,
   "metadata": {
    "colab": {
     "base_uri": "https://localhost:8080/"
    },
    "executionInfo": {
     "elapsed": 345,
     "status": "ok",
     "timestamp": 1646831676453,
     "user": {
      "displayName": "Chiến Minh",
      "photoUrl": "https://lh3.googleusercontent.com/a-/AOh14Ggt54BBzGmy7cmla1J7CdWaL9h-BTd5yyEhH_54=s64",
      "userId": "10937921414809841299"
     },
     "user_tz": -420
    },
    "id": "iY1m4k_Ezt1X",
    "outputId": "ba5469c3-784e-4995-a118-fd8aa9a10542"
   },
   "outputs": [
    {
     "data": {
      "text/plain": [
       "array([ True,  True])"
      ]
     },
     "execution_count": 44,
     "metadata": {},
     "output_type": "execute_result"
    }
   ],
   "source": [
    "freq[[0,1]]=="
   ]
  },
  {
   "cell_type": "code",
   "execution_count": null,
   "metadata": {
    "colab": {
     "base_uri": "https://localhost:8080/"
    },
    "executionInfo": {
     "elapsed": 354,
     "status": "ok",
     "timestamp": 1646831469494,
     "user": {
      "displayName": "Chiến Minh",
      "photoUrl": "https://lh3.googleusercontent.com/a-/AOh14Ggt54BBzGmy7cmla1J7CdWaL9h-BTd5yyEhH_54=s64",
      "userId": "10937921414809841299"
     },
     "user_tz": -420
    },
    "id": "_n0ICkE6yTuP",
    "outputId": "9309ae99-383d-46e4-91ea-7b30d164f5e3"
   },
   "outputs": [
    {
     "data": {
      "text/plain": [
       "array([9, 5])"
      ]
     },
     "execution_count": 33,
     "metadata": {},
     "output_type": "execute_result"
    }
   ],
   "source": [
    "freq_0 = freq[np.array(freq).nonzero()[0]]\n",
    "freq_0"
   ]
  },
  {
   "cell_type": "code",
   "execution_count": null,
   "metadata": {
    "colab": {
     "base_uri": "https://localhost:8080/"
    },
    "executionInfo": {
     "elapsed": 423,
     "status": "ok",
     "timestamp": 1646831753829,
     "user": {
      "displayName": "Chiến Minh",
      "photoUrl": "https://lh3.googleusercontent.com/a-/AOh14Ggt54BBzGmy7cmla1J7CdWaL9h-BTd5yyEhH_54=s64",
      "userId": "10937921414809841299"
     },
     "user_tz": -420
    },
    "id": "hE0NYxxG0a2w",
    "outputId": "b3259ba7-767b-49a7-ac69-5738bd288e0a"
   },
   "outputs": [
    {
     "data": {
      "text/plain": [
       "array([0.64285714, 0.35714286])"
      ]
     },
     "execution_count": 47,
     "metadata": {},
     "output_type": "execute_result"
    }
   ],
   "source": [
    "prob_0 = freq_0/float(freq_0.sum())\n",
    "prob_0"
   ]
  },
  {
   "cell_type": "code",
   "execution_count": null,
   "metadata": {
    "colab": {
     "base_uri": "https://localhost:8080/"
    },
    "executionInfo": {
     "elapsed": 356,
     "status": "ok",
     "timestamp": 1646831834717,
     "user": {
      "displayName": "Chiến Minh",
      "photoUrl": "https://lh3.googleusercontent.com/a-/AOh14Ggt54BBzGmy7cmla1J7CdWaL9h-BTd5yyEhH_54=s64",
      "userId": "10937921414809841299"
     },
     "user_tz": -420
    },
    "id": "5OQQ4Fmo0fom",
    "outputId": "88b8d56c-aa85-4e2f-9daa-652498bb4090"
   },
   "outputs": [
    {
     "data": {
      "text/plain": [
       "0.6517565611726531"
      ]
     },
     "execution_count": 49,
     "metadata": {},
     "output_type": "execute_result"
    }
   ],
   "source": [
    "-np.sum(prob_0*np.log(prob_0))"
   ]
  },
  {
   "cell_type": "code",
   "execution_count": null,
   "metadata": {
    "id": "avT95IFlhuiA"
   },
   "outputs": [],
   "source": []
  },
  {
   "cell_type": "code",
   "execution_count": null,
   "metadata": {
    "colab": {
     "base_uri": "https://localhost:8080/",
     "height": 35
    },
    "executionInfo": {
     "elapsed": 360,
     "status": "ok",
     "timestamp": 1646818641499,
     "user": {
      "displayName": "Chiến Minh",
      "photoUrl": "https://lh3.googleusercontent.com/a-/AOh14Ggt54BBzGmy7cmla1J7CdWaL9h-BTd5yyEhH_54=s64",
      "userId": "10937921414809841299"
     },
     "user_tz": -420
    },
    "id": "uOk8ccas9chB",
    "outputId": "f482b0e3-3558-4652-b4bc-378624b792a0"
   },
   "outputs": [
    {
     "data": {
      "application/vnd.google.colaboratory.intrinsic+json": {
       "type": "string"
      },
      "text/plain": [
       "'aa'"
      ]
     },
     "execution_count": 28,
     "metadata": {},
     "output_type": "execute_result"
    }
   ],
   "source": [
    "queue=['1','3','aa']\n",
    "queue.pop()"
   ]
  },
  {
   "cell_type": "code",
   "execution_count": null,
   "metadata": {
    "colab": {
     "base_uri": "https://localhost:8080/",
     "height": 496
    },
    "executionInfo": {
     "elapsed": 388,
     "status": "ok",
     "timestamp": 1646743232471,
     "user": {
      "displayName": "Chiến Minh",
      "photoUrl": "https://lh3.googleusercontent.com/a-/AOh14Ggt54BBzGmy7cmla1J7CdWaL9h-BTd5yyEhH_54=s64",
      "userId": "10937921414809841299"
     },
     "user_tz": -420
    },
    "id": "REtqDlw2f9wz",
    "outputId": "7ee5854b-425b-44fc-d502-9a0dfb4ddf57"
   },
   "outputs": [
    {
     "name": "stdout",
     "output_type": "stream",
     "text": [
      "[[-1.  -3. ]\n",
      " [ 0.  -2. ]\n",
      " [ 1.  -2. ]\n",
      " [ 2.   1. ]\n",
      " [ 3.   0. ]\n",
      " [ 1.5  1.4]\n",
      " [ 1.   3. ]\n",
      " [ 0.5 -1. ]\n",
      " [-1.   2. ]\n",
      " [-2.  -1.5]\n",
      " [-2.   0. ]\n",
      " [-1.5 -1.2]]\n"
     ]
    },
    {
     "data": {
      "image/png": "[encoded data removed]",
      "text/plain": [
       "<Figure size 432x288 with 1 Axes>"
      ]
     },
     "metadata": {
      "needs_background": "light"
     },
     "output_type": "display_data"
    }
   ],
   "source": [
    "import numpy as np\n",
    "import matplotlib.pyplot as plt\n",
    "from sklearn.tree import DecisionTreeClassifier\n",
    "\n",
    "X = np.c_[(-1, -3),(0, -2),(1, -2),(2, 1),(3, 0),(1.5, 1.4),(1, 3),(0.5, -1),(-1, 2),(-2, -1.5),(-2, 0),(-1.5, -1.2)].T\n",
    "N = 6\n",
    "y = [0] * N + [1] * N\n",
    "plt.plot(X[:N, 0], X[:N, 1], 'bs', markersize = 8)\n",
    "plt.plot(X[N:, 0], X[N:, 1], 'ro', markersize = 8)\n",
    "plt.xlabel(\"$x_1$\",fontsize=20)\n",
    "plt.ylabel(\"$x_2$\",fontsize=20)\n",
    "print(X)"
   ]
  },
  {
   "cell_type": "code",
   "execution_count": null,
   "metadata": {
    "colab": {
     "base_uri": "https://localhost:8080/"
    },
    "executionInfo": {
     "elapsed": 365,
     "status": "ok",
     "timestamp": 1646743378720,
     "user": {
      "displayName": "Chiến Minh",
      "photoUrl": "https://lh3.googleusercontent.com/a-/AOh14Ggt54BBzGmy7cmla1J7CdWaL9h-BTd5yyEhH_54=s64",
      "userId": "10937921414809841299"
     },
     "user_tz": -420
    },
    "id": "7y5ultebj6J_",
    "outputId": "8eca66f0-f4ab-4f11-d6c3-45c0ca2487ca"
   },
   "outputs": [
    {
     "data": {
      "text/plain": [
       "DecisionTreeClassifier(random_state=2022)"
      ]
     },
     "execution_count": 97,
     "metadata": {},
     "output_type": "execute_result"
    }
   ],
   "source": [
    "tree_clf = DecisionTreeClassifier(random_state=2022)\n",
    "tree_clf.fit(X,y)\n"
   ]
  },
  {
   "cell_type": "code",
   "execution_count": null,
   "metadata": {
    "colab": {
     "base_uri": "https://localhost:8080/",
     "height": 305
    },
    "executionInfo": {
     "elapsed": 772,
     "status": "ok",
     "timestamp": 1646743380954,
     "user": {
      "displayName": "Chiến Minh",
      "photoUrl": "https://lh3.googleusercontent.com/a-/AOh14Ggt54BBzGmy7cmla1J7CdWaL9h-BTd5yyEhH_54=s64",
      "userId": "10937921414809841299"
     },
     "user_tz": -420
    },
    "id": "SjLahKebkUNu",
    "outputId": "17af1db4-ec69-4d8c-a147-3df36a7416ae"
   },
   "outputs": [
    {
     "data": {
      "text/plain": [
       "(100, 100)"
      ]
     },
     "execution_count": 98,
     "metadata": {},
     "output_type": "execute_result"
    },
    {
     "data": {
      "image/png": "[encoded data removed]",
      "text/plain": [
       "<Figure size 432x288 with 1 Axes>"
      ]
     },
     "metadata": {
      "needs_background": "light"
     },
     "output_type": "display_data"
    }
   ],
   "source": [
    "plt.axis([-2.5,3.5,-3.5,3.5])\n",
    "x1s = np.linspace(-2.5, 3.5, 100)\n",
    "x2s = np.linspace(-3.5, 3.5, 100)\n",
    "#Tạo lưới bao figure x1,x2 dim R^100x100\n",
    "x1, x2 = np.meshgrid(x1s, x2s)\n",
    "#ravel để tách mảng thành 1 hàng R^1x10000\n",
    "#c_ để ghép 2 mảng thành R^10000x2\n",
    "X_new = np.c_[x1.ravel(), x2.ravel()]\n",
    "#y_pred mảng 1 chiều chuyển về dạng R^100x100 để vẽ countour\n",
    "y_pred = tree_clf.predict(X_new).reshape(x1.shape)\n",
    "plt.contourf(x1, x2, y_pred, alpha=0.3)\n",
    "plt.plot(X[:N, 0], X[:N, 1], 'bs', markersize = 8,label='class 0')\n",
    "plt.plot(X[N:, 0], X[N:, 1], 'ro', markersize = 8,label='class 1')\n",
    "plt.xlabel(\"$x_1$\",fontsize=20)\n",
    "plt.ylabel(\"$x_2$\",fontsize=20,rotation=0)\n",
    "plt.legend()\n",
    "y_pred.shape"
   ]
  },
  {
   "cell_type": "markdown",
   "metadata": {
    "id": "WUDrOO_FrzAx"
   },
   "source": [
    "# 2. Cây quyết định hồi quy"
   ]
  },
  {
   "cell_type": "code",
   "execution_count": null,
   "metadata": {
    "colab": {
     "base_uri": "https://localhost:8080/",
     "height": 282
    },
    "executionInfo": {
     "elapsed": 385,
     "status": "ok",
     "timestamp": 1646743188210,
     "user": {
      "displayName": "Chiến Minh",
      "photoUrl": "https://lh3.googleusercontent.com/a-/AOh14Ggt54BBzGmy7cmla1J7CdWaL9h-BTd5yyEhH_54=s64",
      "userId": "10937921414809841299"
     },
     "user_tz": -420
    },
    "id": "r_4TbliCmq-1",
    "outputId": "2a8c199f-6b04-4102-b1d8-36119ede2e09"
   },
   "outputs": [
    {
     "data": {
      "text/plain": [
       "[<matplotlib.lines.Line2D at 0x7fdcc705dd90>]"
      ]
     },
     "execution_count": 71,
     "metadata": {},
     "output_type": "execute_result"
    },
    {
     "data": {
      "image/png": "[encoded data removed]",
      "text/plain": [
       "<Figure size 432x288 with 1 Axes>"
      ]
     },
     "metadata": {
      "needs_background": "light"
     },
     "output_type": "display_data"
    }
   ],
   "source": [
    "np.random.seed(42)\n",
    "X=4*np.random.rand(100,1)-2\n",
    "y=X**2+X+np.random.rand(100,1)\n",
    "plt.plot(X,y,'ro',markersize=4)"
   ]
  },
  {
   "cell_type": "code",
   "execution_count": null,
   "metadata": {
    "colab": {
     "base_uri": "https://localhost:8080/"
    },
    "executionInfo": {
     "elapsed": 6,
     "status": "ok",
     "timestamp": 1646743189772,
     "user": {
      "displayName": "Chiến Minh",
      "photoUrl": "https://lh3.googleusercontent.com/a-/AOh14Ggt54BBzGmy7cmla1J7CdWaL9h-BTd5yyEhH_54=s64",
      "userId": "10937921414809841299"
     },
     "user_tz": -420
    },
    "id": "jyyC94WjeQmN",
    "outputId": "7cfa4075-00c6-4cce-b42d-0a72a4242a87"
   },
   "outputs": [
    {
     "data": {
      "text/plain": [
       "DecisionTreeRegressor(max_depth=3)"
      ]
     },
     "execution_count": 72,
     "metadata": {},
     "output_type": "execute_result"
    }
   ],
   "source": [
    "from sklearn.tree import DecisionTreeRegressor\n",
    "tree_reg = DecisionTreeRegressor(max_depth=3)\n",
    "tree_reg.fit(X,y)"
   ]
  },
  {
   "cell_type": "code",
   "execution_count": null,
   "metadata": {
    "colab": {
     "base_uri": "https://localhost:8080/",
     "height": 305
    },
    "executionInfo": {
     "elapsed": 400,
     "status": "ok",
     "timestamp": 1646743193316,
     "user": {
      "displayName": "Chiến Minh",
      "photoUrl": "https://lh3.googleusercontent.com/a-/AOh14Ggt54BBzGmy7cmla1J7CdWaL9h-BTd5yyEhH_54=s64",
      "userId": "10937921414809841299"
     },
     "user_tz": -420
    },
    "id": "3foxZBhIg1QR",
    "outputId": "140048f7-131f-499e-dd82-8c4e7669a816"
   },
   "outputs": [
    {
     "data": {
      "text/plain": [
       "Text(0, 0.5, 'y')"
      ]
     },
     "execution_count": 73,
     "metadata": {},
     "output_type": "execute_result"
    },
    {
     "data": {
      "image/png": "[encoded data removed]",
      "text/plain": [
       "<Figure size 432x288 with 1 Axes>"
      ]
     },
     "metadata": {
      "needs_background": "light"
     },
     "output_type": "display_data"
    }
   ],
   "source": [
    "x1 = np.linspace(-2, 2, 200).reshape(-1, 1)\n",
    "y_pred = tree_reg.predict(x1)\n",
    "plt.plot(X,y,'ro',markersize=4)\n",
    "plt.plot(x1, y_pred)\n",
    "plt.xlabel('x',fontsize=20)\n",
    "plt.ylabel('y',fontsize=20,rotation=0)"
   ]
  },
  {
   "cell_type": "code",
   "execution_count": null,
   "metadata": {
    "id": "LjC05JQ6Ny_R"
   },
   "outputs": [],
   "source": []
  }
 ],
 "metadata": {
  "colab": {
   "authorship_tag": "ABX9TyM6f9jAa5eRwQoqMR3iXcoz",
   "collapsed_sections": [],
   "name": "Tree_decision.ipynb",
   "provenance": []
  },
  "kernelspec": {
   "display_name": "Python 3",
   "language": "python",
   "name": "python3"
  },
  "language_info": {
   "codemirror_mode": {
    "name": "ipython",
    "version": 3
   },
   "file_extension": ".py",
   "mimetype": "text/x-python",
   "name": "python",
   "nbconvert_exporter": "python",
   "pygments_lexer": "ipython3",
   "version": "3.7.0"
  }
 },
 "nbformat": 4,
 "nbformat_minor": 1
}
