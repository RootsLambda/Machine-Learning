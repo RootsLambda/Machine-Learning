{
 "cells": [
  {
   "cell_type": "markdown",
   "metadata": {},
   "source": [
    "# 1. Single Value Decomposition "
   ]
  },
  {
   "cell_type": "code",
   "execution_count": null,
   "metadata": {
    "id": "X_QvZeAsJ2Nx"
   },
   "outputs": [],
   "source": [
    "import tensorflow as tf\n",
    "from tensorflow import keras\n",
    "import numpy as np"
   ]
  },
  {
   "cell_type": "code",
   "execution_count": null,
   "metadata": {
    "colab": {
     "base_uri": "https://localhost:8080/"
    },
    "executionInfo": {
     "elapsed": 1042,
     "status": "ok",
     "timestamp": 1649740098148,
     "user": {
      "displayName": "Chiến Minh",
      "userId": "10937921414809841299"
     },
     "user_tz": -420
    },
    "id": "RZQhd2jFKBeZ",
    "outputId": "d002d3bb-3101-4f18-a6e2-521bdc7b4404"
   },
   "outputs": [
    {
     "name": "stdout",
     "output_type": "stream",
     "text": [
      "Downloading data from https://storage.googleapis.com/tensorflow/tf-keras-datasets/mnist.npz\n",
      "11493376/11490434 [==============================] - 0s 0us/step\n",
      "11501568/11490434 [==============================] - 0s 0us/step\n"
     ]
    }
   ],
   "source": [
    "(x_train,y_train),(x_test,y_test) = tf.keras.datasets.mnist.load_data()"
   ]
  },
  {
   "cell_type": "code",
   "execution_count": null,
   "metadata": {
    "colab": {
     "base_uri": "https://localhost:8080/"
    },
    "executionInfo": {
     "elapsed": 526,
     "status": "ok",
     "timestamp": 1649740100175,
     "user": {
      "displayName": "Chiến Minh",
      "userId": "10937921414809841299"
     },
     "user_tz": -420
    },
    "id": "1UReOxAT5W6r",
    "outputId": "f2ea1adf-8f91-4bef-82da-4f875183aefe"
   },
   "outputs": [
    {
     "data": {
      "text/plain": [
       "(60000, 28, 28)"
      ]
     },
     "execution_count": 4,
     "metadata": {},
     "output_type": "execute_result"
    }
   ],
   "source": [
    "x_train.shape"
   ]
  },
  {
   "cell_type": "code",
   "execution_count": null,
   "metadata": {
    "id": "FAsaqmDPBBBV"
   },
   "outputs": [],
   "source": [
    "x_train = x_train.reshape(x_train.shape[0],-1)/255.0\n",
    "x_test= x_test.reshape(x_test.shape[0],-1)/255.0"
   ]
  },
  {
   "cell_type": "code",
   "execution_count": null,
   "metadata": {
    "colab": {
     "base_uri": "https://localhost:8080/"
    },
    "executionInfo": {
     "elapsed": 8,
     "status": "ok",
     "timestamp": 1649740103695,
     "user": {
      "displayName": "Chiến Minh",
      "userId": "10937921414809841299"
     },
     "user_tz": -420
    },
    "id": "KhY2ROPg7DEE",
    "outputId": "90343990-2494-4f4b-b6e0-13918ad68a3c"
   },
   "outputs": [
    {
     "data": {
      "text/plain": [
       "(60000, 784)"
      ]
     },
     "execution_count": 6,
     "metadata": {},
     "output_type": "execute_result"
    }
   ],
   "source": [
    "x_train.shape"
   ]
  },
  {
   "cell_type": "code",
   "execution_count": null,
   "metadata": {
    "id": "qnRW-bNE4_sN"
   },
   "outputs": [],
   "source": [
    "from sklearn.decomposition import PCA\n",
    "pca = PCA(n_components=2)\n",
    "X_train_reduced = pca.fit_transform(x_train)\n",
    "X_train_recovered = pca.inverse_transform(X_train_reduced)\n",
    "X_test_reduced = pca.transform(x_test)\n",
    "X_test_recovered = pca.inverse_transform(X_test_reduced)"
   ]
  },
  {
   "cell_type": "code",
   "execution_count": null,
   "metadata": {
    "colab": {
     "base_uri": "https://localhost:8080/"
    },
    "executionInfo": {
     "elapsed": 750,
     "status": "ok",
     "timestamp": 1649740119871,
     "user": {
      "displayName": "Chiến Minh",
      "userId": "10937921414809841299"
     },
     "user_tz": -420
    },
    "id": "yDMsqKzbjhga",
    "outputId": "0bf768fb-7130-45e1-8d2c-359930116324"
   },
   "outputs": [
    {
     "data": {
      "text/plain": [
       "0.09704664359670248"
      ]
     },
     "execution_count": 8,
     "metadata": {},
     "output_type": "execute_result"
    }
   ],
   "source": [
    "np.max(pca.explained_variance_ratio_)"
   ]
  },
  {
   "cell_type": "code",
   "execution_count": null,
   "metadata": {
    "colab": {
     "base_uri": "https://localhost:8080/"
    },
    "executionInfo": {
     "elapsed": 492,
     "status": "ok",
     "timestamp": 1649740130749,
     "user": {
      "displayName": "Chiến Minh",
      "userId": "10937921414809841299"
     },
     "user_tz": -420
    },
    "id": "jshxIp3ukgSb",
    "outputId": "1528df48-6f45-441b-e394-be5f86ed3c93"
   },
   "outputs": [
    {
     "data": {
      "text/plain": [
       "2"
      ]
     },
     "execution_count": 9,
     "metadata": {},
     "output_type": "execute_result"
    }
   ],
   "source": [
    "pca.n_components_"
   ]
  },
  {
   "cell_type": "code",
   "execution_count": null,
   "metadata": {
    "colab": {
     "base_uri": "https://localhost:8080/"
    },
    "executionInfo": {
     "elapsed": 440,
     "status": "ok",
     "timestamp": 1649740134235,
     "user": {
      "displayName": "Chiến Minh",
      "userId": "10937921414809841299"
     },
     "user_tz": -420
    },
    "id": "72D481TQj5tv",
    "outputId": "f5e1fdee-3089-4833-8234-cf7f95fbfac6"
   },
   "outputs": [
    {
     "data": {
      "text/plain": [
       "0.16800588411806772"
      ]
     },
     "execution_count": 10,
     "metadata": {},
     "output_type": "execute_result"
    }
   ],
   "source": [
    "pca.explained_variance_ratio_.sum()"
   ]
  },
  {
   "cell_type": "code",
   "execution_count": null,
   "metadata": {
    "colab": {
     "background_save": true,
     "base_uri": "https://localhost:8080/"
    },
    "executionInfo": {
     "elapsed": 479,
     "status": "ok",
     "timestamp": 1649557755456,
     "user": {
      "displayName": "Chiến Minh",
      "userId": "10937921414809841299"
     },
     "user_tz": -420
    },
    "id": "Ptcanc1FCN1r",
    "outputId": "6fe9ef18-6c97-4b05-ddcc-48f298ebbb96"
   },
   "outputs": [
    {
     "data": {
      "text/plain": [
       "(60000, 2)"
      ]
     },
     "execution_count": null,
     "metadata": {},
     "output_type": "execute_result"
    }
   ],
   "source": [
    "X_train_reduced.shape"
   ]
  },
  {
   "cell_type": "code",
   "execution_count": null,
   "metadata": {
    "id": "w63LUGLALPno"
   },
   "outputs": [],
   "source": [
    "import seaborn as sns\n",
    "plt.figure(figsize=(16,10))\n",
    "sns.scatterplot(\n",
    "    x=\"principal component 1\", y=\"principal component 2\",\n",
    "    hue=\"y\",\n",
    "    palette=sns.color_palette(\"hls\", 10),\n",
    "    data=[X_train_reduced[:100,0],XX_train_reduced[:100,1]]\n",
    "    legend=\"full\",\n",
    "    alpha=0.3\n",
    ")"
   ]
  },
  {
   "cell_type": "code",
   "execution_count": null,
   "metadata": {
    "colab": {
     "base_uri": "https://localhost:8080/",
     "height": 218
    },
    "executionInfo": {
     "elapsed": 726,
     "status": "ok",
     "timestamp": 1649557762001,
     "user": {
      "displayName": "Chiến Minh",
      "userId": "10937921414809841299"
     },
     "user_tz": -420
    },
    "id": "sD-B5KFc7RQs",
    "outputId": "251c1b6d-dcd1-4189-b480-5bd344a03bae"
   },
   "outputs": [
    {
     "data": {
      "text/plain": [
       "<matplotlib.image.AxesImage at 0x7fdec43626d0>"
      ]
     },
     "execution_count": 100,
     "metadata": {},
     "output_type": "execute_result"
    },
    {
     "data": {
      "image/png": "[encoded data removed]",
      "text/plain": [
       "<Figure size 432x288 with 2 Axes>"
      ]
     },
     "metadata": {},
     "output_type": "display_data"
    }
   ],
   "source": [
    "import matplotlib.pyplot as plt\n",
    "plt.subplot(121)\n",
    "plt.imshow(x_train[0].reshape(28,28),cmap=plt.cm.binary)\n",
    "plt.subplot(122)\n",
    "plt.imshow(X_train_recovered[0].reshape(28,28),cmap=plt.cm.binary)"
   ]
  },
  {
   "cell_type": "code",
   "execution_count": null,
   "metadata": {
    "id": "O0e-147VEpmt"
   },
   "outputs": [],
   "source": [
    "X_train_reduced_3D=X_train_reduced.reshape(60000,14,14)\n",
    "X_test_reduced_3D=X_test_reduced.reshape(10000,14,14)\n",
    "import numpy as np\n",
    "X_train_reduced_4D= X_train_reduced_3D[..., np.newaxis]\n",
    "X_test_reduced_4D= X_test_reduced_3D[..., np.newaxis]"
   ]
  },
  {
   "cell_type": "code",
   "execution_count": null,
   "metadata": {
    "colab": {
     "base_uri": "https://localhost:8080/"
    },
    "executionInfo": {
     "elapsed": 1031,
     "status": "ok",
     "timestamp": 1649557130733,
     "user": {
      "displayName": "Chiến Minh",
      "userId": "10937921414809841299"
     },
     "user_tz": -420
    },
    "id": "C7qm7XTsOahD",
    "outputId": "5b8a2d02-966f-47b7-ea4c-6765b10df92c"
   },
   "outputs": [
    {
     "name": "stdout",
     "output_type": "stream",
     "text": [
      "Model: \"sequential_3\"\n",
      "_________________________________________________________________\n",
      " Layer (type)                Output Shape              Param #   \n",
      "=================================================================\n",
      " dense_11 (Dense)            (None, 15)                2955      \n",
      "                                                                 \n",
      " dense_12 (Dense)            (None, 12)                192       \n",
      "                                                                 \n",
      " dense_13 (Dense)            (None, 8)                 104       \n",
      "                                                                 \n",
      " dense_14 (Dense)            (None, 10)                90        \n",
      "                                                                 \n",
      "=================================================================\n",
      "Total params: 3,341\n",
      "Trainable params: 3,341\n",
      "Non-trainable params: 0\n",
      "_________________________________________________________________\n"
     ]
    }
   ],
   "source": [
    "# model = tf.keras.models.Sequential()\n",
    "# model.add(tf.keras.layers.Dense(15, input_dim=196, activation='relu'))\n",
    "# model.add(tf.keras.layers.Dense(12, activation='relu'))\n",
    "# model.add(tf.keras.layers.Dense(8, activation='relu'))\n",
    "# model.add(tf.keras.layers.Dense(10, activation='softmax'))\n",
    "# model.summary()"
   ]
  },
  {
   "cell_type": "code",
   "execution_count": null,
   "metadata": {
    "id": "SLr_TsWvTLIy"
   },
   "outputs": [],
   "source": [
    "model = keras.models.Sequential([\n",
    "    keras.layers.Conv2D(filters=6, kernel_size=5, strides=1,activation='tanh',padding=\"same\",input_shape=[14,14,1]),\n",
    "    keras.layers.AvgPool2D(pool_size=2),\n",
    "    keras.layers.Conv2D(filters=16, kernel_size=5, strides=1,activation='tanh',padding=\"valid\"),\n",
    "    keras.layers.AvgPool2D(pool_size=2),\n",
    "    keras.layers.Flatten(),\n",
    "    keras.layers.Dense(units=84, activation='tanh'),\n",
    "    keras.layers.Dense(units=10, activation='softmax')\n",
    "])     "
   ]
  },
  {
   "cell_type": "code",
   "execution_count": null,
   "metadata": {
    "colab": {
     "base_uri": "https://localhost:8080/"
    },
    "executionInfo": {
     "elapsed": 31762,
     "status": "ok",
     "timestamp": 1649557842707,
     "user": {
      "displayName": "Chiến Minh",
      "userId": "10937921414809841299"
     },
     "user_tz": -420
    },
    "id": "rVN4aMZKIFCX",
    "outputId": "9b31df53-91b0-4f2b-85a4-afa81b41a767"
   },
   "outputs": [
    {
     "name": "stdout",
     "output_type": "stream",
     "text": [
      "Epoch 1/2\n",
      "1875/1875 [==============================] - 16s 8ms/step - loss: 0.9624 - accuracy: 0.6827 - val_loss: 0.5764 - val_accuracy: 0.8217\n",
      "Epoch 2/2\n",
      "1875/1875 [==============================] - 15s 8ms/step - loss: 0.5217 - accuracy: 0.8381 - val_loss: 0.4495 - val_accuracy: 0.8635\n"
     ]
    },
    {
     "data": {
      "text/plain": [
       "<keras.callbacks.History at 0x7fdec439d290>"
      ]
     },
     "execution_count": 104,
     "metadata": {},
     "output_type": "execute_result"
    }
   ],
   "source": [
    "model.compile(optimizer='adam',loss='sparse_categorical_crossentropy',metrics=['accuracy'])\n",
    "model.fit(X_train_reduced_4D, y_train, validation_data=(X_test_reduced_4D, y_test),epochs=2)"
   ]
  },
  {
   "cell_type": "code",
   "execution_count": null,
   "metadata": {
    "colab": {
     "base_uri": "https://localhost:8080/"
    },
    "executionInfo": {
     "elapsed": 1132,
     "status": "ok",
     "timestamp": 1649557873771,
     "user": {
      "displayName": "Chiến Minh",
      "userId": "10937921414809841299"
     },
     "user_tz": -420
    },
    "id": "F1wRFvLuIaYr",
    "outputId": "17145c31-8605-4ac9-b4d0-048f12a883b1"
   },
   "outputs": [
    {
     "name": "stdout",
     "output_type": "stream",
     "text": [
      "[8.3848763e-06 2.9824093e-06 4.7603985e-06 6.6276873e-05 1.1173909e-01\n",
      " 2.1385809e-04 3.9096609e-05 7.1093522e-02 1.9155925e-03 8.1491643e-01]\n",
      "9\n"
     ]
    }
   ],
   "source": [
    "predictions = model.predict(X_test_reduced_4D)\n",
    "print(predictions[9])\n",
    "print(np.argmax(predictions[9]))"
   ]
  },
  {
   "cell_type": "code",
   "execution_count": null,
   "metadata": {
    "colab": {
     "base_uri": "https://localhost:8080/"
    },
    "executionInfo": {
     "elapsed": 464,
     "status": "ok",
     "timestamp": 1649557882412,
     "user": {
      "displayName": "Chiến Minh",
      "userId": "10937921414809841299"
     },
     "user_tz": -420
    },
    "id": "_hM951r-JO_M",
    "outputId": "c7baaea0-6736-4c51-fbc0-ff98314dac10"
   },
   "outputs": [
    {
     "data": {
      "text/plain": [
       "9"
      ]
     },
     "execution_count": 106,
     "metadata": {},
     "output_type": "execute_result"
    }
   ],
   "source": [
    "y_test[9]"
   ]
  },
  {
   "cell_type": "code",
   "execution_count": null,
   "metadata": {
    "colab": {
     "base_uri": "https://localhost:8080/",
     "height": 282
    },
    "executionInfo": {
     "elapsed": 515,
     "status": "ok",
     "timestamp": 1649557887397,
     "user": {
      "displayName": "Chiến Minh",
      "userId": "10937921414809841299"
     },
     "user_tz": -420
    },
    "id": "mJvclg7NIfM8",
    "outputId": "d73c72f1-e8fd-425c-e170-4c4bbce4cc2a"
   },
   "outputs": [
    {
     "data": {
      "text/plain": [
       "<matplotlib.image.AxesImage at 0x7fdec37b4ed0>"
      ]
     },
     "execution_count": 107,
     "metadata": {},
     "output_type": "execute_result"
    },
    {
     "data": {
      "image/png": "[encoded data removed]",
      "text/plain": [
       "<Figure size 432x288 with 1 Axes>"
      ]
     },
     "metadata": {},
     "output_type": "display_data"
    }
   ],
   "source": [
    "plt.imshow(X_test_recovered[9].reshape(28,28),cmap=plt.cm.binary)"
   ]
  },
  {
   "cell_type": "code",
   "execution_count": null,
   "metadata": {
    "colab": {
     "base_uri": "https://localhost:8080/",
     "height": 265
    },
    "executionInfo": {
     "elapsed": 515,
     "status": "ok",
     "timestamp": 1649557901455,
     "user": {
      "displayName": "Chiến Minh",
      "userId": "10937921414809841299"
     },
     "user_tz": -420
    },
    "id": "snAVChy7Krqw",
    "outputId": "f857aa98-fb18-4de0-d078-c7ef52d744f6"
   },
   "outputs": [
    {
     "data": {
      "image/png": "[encoded data removed]",
      "text/plain": [
       "<Figure size 432x288 with 1 Axes>"
      ]
     },
     "metadata": {},
     "output_type": "display_data"
    }
   ],
   "source": [
    "import matplotlib.pyplot as plt\n",
    "plt.imshow(X_test_reduced_4D[9].reshape(14,14),cmap=plt.cm.binary)\n",
    "plt.show()"
   ]
  },
  {
   "cell_type": "markdown",
   "metadata": {},
   "source": [
    "# 2. Principal Component Analysis"
   ]
  },
  {
   "cell_type": "code",
   "execution_count": 1,
   "metadata": {
    "id": "vLKeMynbAuCx"
   },
   "outputs": [],
   "source": [
    "import scipy.linalg as ln\n",
    "import numpy as np"
   ]
  },
  {
   "cell_type": "code",
   "execution_count": 2,
   "metadata": {},
   "outputs": [],
   "source": [
    "m, n = 2, 3\n",
    "n_diag = min(m, n)"
   ]
  },
  {
   "cell_type": "code",
   "execution_count": 3,
   "metadata": {},
   "outputs": [
    {
     "data": {
      "text/plain": [
       "2"
      ]
     },
     "execution_count": 3,
     "metadata": {},
     "output_type": "execute_result"
    }
   ],
   "source": [
    "n_diag"
   ]
  },
  {
   "cell_type": "code",
   "execution_count": 4,
   "metadata": {},
   "outputs": [
    {
     "data": {
      "text/plain": [
       "array([[0.37454012, 0.95071431, 0.73199394],\n",
       "       [0.59865848, 0.15601864, 0.15599452]])"
      ]
     },
     "execution_count": 4,
     "metadata": {},
     "output_type": "execute_result"
    }
   ],
   "source": [
    "np.random.seed(42)\n",
    "A = np.random.rand(m, n)\n",
    "A"
   ]
  },
  {
   "cell_type": "code",
   "execution_count": 5,
   "metadata": {},
   "outputs": [],
   "source": [
    "U, S_diag, V = ln.svd(A)"
   ]
  },
  {
   "cell_type": "code",
   "execution_count": 6,
   "metadata": {},
   "outputs": [
    {
     "data": {
      "text/plain": [
       "array([[1.32500252, 0.        ],\n",
       "       [0.        , 0.48102966]])"
      ]
     },
     "execution_count": 6,
     "metadata": {},
     "output_type": "execute_result"
    }
   ],
   "source": [
    "S = np.zeros((n_diag, n_diag))\n",
    "np.fill_diagonal(S, S_diag)\n",
    "S"
   ]
  },
  {
   "cell_type": "code",
   "execution_count": 7,
   "metadata": {},
   "outputs": [
    {
     "data": {
      "text/plain": [
       "array([[1.32500252, 0.        , 0.        ],\n",
       "       [0.        , 0.48102966, 0.        ]])"
      ]
     },
     "execution_count": 7,
     "metadata": {},
     "output_type": "execute_result"
    }
   ],
   "source": [
    "S = np.concatenate((S, np.zeros((m, 1))), axis = 1)\n",
    "S"
   ]
  },
  {
   "cell_type": "code",
   "execution_count": 8,
   "metadata": {},
   "outputs": [
    {
     "data": {
      "text/plain": [
       "array([[-0.94060814, -0.33949423],\n",
       "       [-0.33949423,  0.94060814]])"
      ]
     },
     "execution_count": 8,
     "metadata": {},
     "output_type": "execute_result"
    }
   ],
   "source": [
    "U"
   ]
  },
  {
   "cell_type": "code",
   "execution_count": 9,
   "metadata": {},
   "outputs": [
    {
     "data": {
      "text/plain": [
       "2.220446049250313e-16"
      ]
     },
     "execution_count": 9,
     "metadata": {},
     "output_type": "execute_result"
    }
   ],
   "source": [
    "#Kiểm tra coi ma trận U có trực giao hay không U^TU-I=0\n",
    "ln.norm(np.dot(U.T,U)-np.eye(m, m),'fro')\n"
   ]
  },
  {
   "cell_type": "code",
   "execution_count": 10,
   "metadata": {},
   "outputs": [
    {
     "data": {
      "text/plain": [
       "array([[-0.4192721 , -0.71487943, -0.5596055 ],\n",
       "       [ 0.90628265, -0.36590179, -0.21158363],\n",
       "       [-0.05350387, -0.59587187,  0.80129523]])"
      ]
     },
     "execution_count": 10,
     "metadata": {},
     "output_type": "execute_result"
    }
   ],
   "source": [
    "V"
   ]
  },
  {
   "cell_type": "code",
   "execution_count": 11,
   "metadata": {},
   "outputs": [
    {
     "data": {
      "text/plain": [
       "9.534353327576943e-16"
      ]
     },
     "execution_count": 11,
     "metadata": {},
     "output_type": "execute_result"
    }
   ],
   "source": [
    "#Kiểm tra coi ma trận V có trực giao hay không V^TV-I=0\n",
    "ln.norm(np.dot(V.T,V)-np.eye(n, n), 'fro')"
   ]
  },
  {
   "cell_type": "code",
   "execution_count": 12,
   "metadata": {},
   "outputs": [
    {
     "data": {
      "text/plain": [
       "array([1.32500252, 0.48102966])"
      ]
     },
     "execution_count": 12,
     "metadata": {},
     "output_type": "execute_result"
    }
   ],
   "source": [
    "S_diag"
   ]
  },
  {
   "cell_type": "code",
   "execution_count": 13,
   "metadata": {},
   "outputs": [
    {
     "data": {
      "text/plain": [
       "array([[1.32500252, 0.        , 0.        ],\n",
       "       [0.        , 0.48102966, 0.        ]])"
      ]
     },
     "execution_count": 13,
     "metadata": {},
     "output_type": "execute_result"
    }
   ],
   "source": [
    "S"
   ]
  },
  {
   "cell_type": "code",
   "execution_count": 14,
   "metadata": {},
   "outputs": [
    {
     "data": {
      "text/plain": [
       "7.947987303456224e-16"
      ]
     },
     "execution_count": 14,
     "metadata": {},
     "output_type": "execute_result"
    }
   ],
   "source": [
    "ln.norm(np.dot(U, S.dot(V))-A,'fro')"
   ]
  },
  {
   "cell_type": "code",
   "execution_count": 15,
   "metadata": {},
   "outputs": [
    {
     "data": {
      "text/plain": [
       "[<matplotlib.lines.Line2D at 0x51bc6b0>]"
      ]
     },
     "execution_count": 15,
     "metadata": {},
     "output_type": "execute_result"
    },
    {
     "data": {
      "image/png": "[encoded data removed]",
      "text/plain": [
       "<Figure size 432x288 with 1 Axes>"
      ]
     },
     "metadata": {
      "needs_background": "light"
     },
     "output_type": "display_data"
    }
   ],
   "source": [
    "import numpy as np\n",
    "import matplotlib.pyplot as plt\n",
    "%matplotlib inline\n",
    "\n",
    "n = 100\n",
    "x = np.arange(n)\n",
    "\n",
    "# add 1 column in the last of X to create X matrix\n",
    "X = np.concatenate((x.reshape(n, 1), np.ones((n, 1))), axis = 1)\n",
    "y = np.random.randn(n)*10 + 2*x\n",
    "plt.plot(x, y)"
   ]
  },
  {
   "cell_type": "code",
   "execution_count": 16,
   "metadata": {},
   "outputs": [
    {
     "data": {
      "text/plain": [
       "array([[3.2835e+05, 4.9500e+03],\n",
       "       [4.9500e+03, 1.0000e+02]])"
      ]
     },
     "execution_count": 16,
     "metadata": {},
     "output_type": "execute_result"
    }
   ],
   "source": [
    "A = np.dot(X.T, X)\n",
    "b = np.dot(X.T, y)\n",
    "A"
   ]
  },
  {
   "cell_type": "code",
   "execution_count": 17,
   "metadata": {},
   "outputs": [
    {
     "data": {
      "text/plain": [
       "array([[3.04483864e-06, 0.00000000e+00],\n",
       "       [0.00000000e+00, 3.94148970e-02]])"
      ]
     },
     "execution_count": 17,
     "metadata": {},
     "output_type": "execute_result"
    }
   ],
   "source": [
    "U, S_diag, V = np.linalg.svd(A)\n",
    "S = np.zeros((S_diag.shape[0], S_diag.shape[0]))\n",
    "np.fill_diagonal(S, S_diag)\n",
    "S_inv = np.linalg.inv(S)\n",
    "S_inv"
   ]
  },
  {
   "cell_type": "code",
   "execution_count": 18,
   "metadata": {},
   "outputs": [
    {
     "data": {
      "text/plain": [
       "array([ 2.01982256, -2.49959388])"
      ]
     },
     "execution_count": 18,
     "metadata": {},
     "output_type": "execute_result"
    }
   ],
   "source": [
    "#trọng số bằng w=A giả nghịch đảo x b\n",
    "#A giả nghịch đảo =V*S^-1*U^T\n",
    "A_pse =  np.dot(V.T, np.dot(S_inv, U))\n",
    "w_svd = np.dot(A_pse, b)\n",
    "w_svd"
   ]
  },
  {
   "cell_type": "code",
   "execution_count": 19,
   "metadata": {},
   "outputs": [
    {
     "name": "stdout",
     "output_type": "stream",
     "text": [
      "Image shape: (183, 275, 3)\n"
     ]
    },
    {
     "data": {
      "text/plain": [
       "<matplotlib.image.AxesImage at 0x6b7dd10>"
      ]
     },
     "execution_count": 19,
     "metadata": {},
     "output_type": "execute_result"
    },
    {
     "data": {
      "image/png": "[encoded data removed]",
      "text/plain": [
       "<Figure size 432x288 with 1 Axes>"
      ]
     },
     "metadata": {
      "needs_background": "light"
     },
     "output_type": "display_data"
    }
   ],
   "source": [
    "import matplotlib.pyplot as plt\n",
    "import numpy as np\n",
    "import scipy.linalg as ln\n",
    "from PIL import Image\n",
    "import urllib.request\n",
    "from io import BytesIO\n",
    "\n",
    "%matplotlib inline\n",
    "\n",
    "url = str('https://encrypted-tbn0.gstatic.com/images?q=tbn:ANd9GcQl2byL-MUxDQdTjiLwjXJPpleqt7F7fY4Afg&usqp=CAU')\n",
    "with urllib.request.urlopen(url) as url:\n",
    "    f = BytesIO(url.read())\n",
    "\n",
    "ig = np.array(Image.open(f))\n",
    "print('Image shape: %s'%str(ig.shape))\n",
    "# Convert to grey\n",
    "ig = ig.dot([0.299, 0.5870, 0.114])\n",
    "plt.imshow(ig)"
   ]
  },
  {
   "cell_type": "code",
   "execution_count": 20,
   "metadata": {},
   "outputs": [
    {
     "data": {
      "text/plain": [
       "array([ 0,  1,  2,  3,  4,  5,  6,  7,  8,  9, 10, 11, 12, 13, 14, 15, 16,\n",
       "       17, 18, 19], dtype=int32)"
      ]
     },
     "execution_count": 20,
     "metadata": {},
     "output_type": "execute_result"
    }
   ],
   "source": [
    "#Lấy 20 trị riêng lớn nhất\n",
    "#Take m, n shape\n",
    "m = ig.shape[0]\n",
    "n = ig.shape[1]\n",
    "#Singular Value Decomposition\n",
    "U, S, V = ln.svd(ig)\n",
    "id_trunc = np.argsort(S)[::-1][:20]\n",
    "id_trunc"
   ]
  },
  {
   "cell_type": "code",
   "execution_count": 21,
   "metadata": {},
   "outputs": [],
   "source": [
    "U_t = U[np.ix_(np.arange(m), id_trunc)]\n",
    "V_t = V[np.ix_(id_trunc, np.arange(n))]\n",
    "S_diag = S[id_trunc]\n",
    "S_t = np.zeros((20, 20))\n",
    "np.fill_diagonal(S_t, S_diag)"
   ]
  },
  {
   "cell_type": "code",
   "execution_count": 22,
   "metadata": {},
   "outputs": [],
   "source": [
    "A = np.dot(U_t, S_t.dot(V_t))"
   ]
  },
  {
   "cell_type": "code",
   "execution_count": 23,
   "metadata": {},
   "outputs": [
    {
     "data": {
      "text/plain": [
       "<matplotlib.image.AxesImage at 0x98782f0>"
      ]
     },
     "execution_count": 23,
     "metadata": {},
     "output_type": "execute_result"
    },
    {
     "data": {
      "image/png": "[encoded data removed]",
      "text/plain": [
       "<Figure size 432x288 with 1 Axes>"
      ]
     },
     "metadata": {
      "needs_background": "light"
     },
     "output_type": "display_data"
    }
   ],
   "source": [
    "fb = ln.norm(A-ig, 'fro')\n",
    "prt_retain = (1-fb**2/np.sum(S**2))*100\n",
    "plt.imshow(A)"
   ]
  },
  {
   "cell_type": "code",
   "execution_count": 24,
   "metadata": {},
   "outputs": [
    {
     "data": {
      "text/plain": [
       "99.61288497889372"
      ]
     },
     "execution_count": 24,
     "metadata": {},
     "output_type": "execute_result"
    }
   ],
   "source": [
    "prt_retain"
   ]
  },
  {
   "cell_type": "code",
   "execution_count": 25,
   "metadata": {},
   "outputs": [
    {
     "data": {
      "text/plain": [
       "((183, 183), (183,), (275, 275))"
      ]
     },
     "execution_count": 25,
     "metadata": {},
     "output_type": "execute_result"
    }
   ],
   "source": [
    "U.shape,S.shape,V.shape"
   ]
  },
  {
   "cell_type": "code",
   "execution_count": 26,
   "metadata": {},
   "outputs": [
    {
     "data": {
      "text/plain": [
       "((183, 20), (20, 20), (20, 275))"
      ]
     },
     "execution_count": 26,
     "metadata": {},
     "output_type": "execute_result"
    }
   ],
   "source": [
    "U_t.shape,S_t.shape,V_t.shape"
   ]
  },
  {
   "cell_type": "code",
   "execution_count": 27,
   "metadata": {},
   "outputs": [
    {
     "data": {
      "text/plain": [
       "(183, 275)"
      ]
     },
     "execution_count": 27,
     "metadata": {},
     "output_type": "execute_result"
    }
   ],
   "source": [
    "A.shape\n",
    "#Ma trận 183x275 giảm thành 3 ma trận 183x20,20x20,20x275"
   ]
  },
  {
   "cell_type": "code",
   "execution_count": null,
   "metadata": {},
   "outputs": [],
   "source": []
  }
 ],
 "metadata": {
  "colab": {
   "authorship_tag": "ABX9TyOvRxdYAcVfw2wbTijhvdiK",
   "collapsed_sections": [],
   "name": "PCA.ipynb",
   "provenance": []
  },
  "kernelspec": {
   "display_name": "Python 3",
   "language": "python",
   "name": "python3"
  },
  "language_info": {
   "codemirror_mode": {
    "name": "ipython",
    "version": 3
   },
   "file_extension": ".py",
   "mimetype": "text/x-python",
   "name": "python",
   "nbconvert_exporter": "python",
   "pygments_lexer": "ipython3",
   "version": "3.7.0"
  }
 },
 "nbformat": 4,
 "nbformat_minor": 1
}
