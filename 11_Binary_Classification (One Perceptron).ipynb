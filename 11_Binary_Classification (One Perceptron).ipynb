{
 "cells": [
  {
   "cell_type": "markdown",
   "metadata": {},
   "source": [
    "# 1. Binary classification"
   ]
  },
  {
   "cell_type": "markdown",
   "metadata": {},
   "source": [
    "# 1.2 Self-programming "
   ]
  },
  {
   "cell_type": "code",
   "execution_count": 24,
   "metadata": {},
   "outputs": [
    {
     "data": {
      "image/png": "[encoded data removed]",
      "text/plain": [
       "<Figure size 432x288 with 1 Axes>"
      ]
     },
     "metadata": {
      "needs_background": "light"
     },
     "output_type": "display_data"
    },
    {
     "name": "stdout",
     "output_type": "stream",
     "text": [
      "(2, 20)\n"
     ]
    }
   ],
   "source": [
    "import numpy as np \n",
    "import matplotlib.pyplot as plt\n",
    "# Cho hạt cố định\n",
    "np.random.seed(2)\n",
    "#Chuẩn bị dữ liệu\n",
    "means = [[2, 2], [4, 2]]#Cho center của cluster 1 và cluster 2\n",
    "cov = [[0.3, 0.2], [0.2, 0.3]]# Ma trận hiệp phương sai của 2 cluster\n",
    "N = 10\n",
    "# Cluster của 1,2 có 2 chiều (x1,x2) nên ∈ R^10x2\n",
    "cluster_1 = np.random.multivariate_normal(means[0], cov, N).T\n",
    "cluster_2 = np.random.multivariate_normal(means[1], cov, N).T\n",
    "# X ∈ R^20x2\n",
    "X = np.concatenate((cluster_1, cluster_2), axis = 1)\n",
    "# y ∈ R^20x2 là label có thứ tự 10 số đầu là 1, 10 số sau là -1\n",
    "y = np.concatenate((np.ones((1, N)), -1*np.ones((1, N))), axis = 1)\n",
    "# X_bar ∈ R^20x3 gắn thêm x0=1\n",
    "X_bar= np.concatenate((np.ones((1, 2*N)), X), axis = 0)\n",
    "plt.plot(X_bar[1,:10],X_bar[2,:10],'r^')\n",
    "plt.plot(X_bar[1,10:],X_bar[2,10:],'bs')\n",
    "plt.show()\n",
    "print(X.shape)"
   ]
  },
  {
   "cell_type": "code",
   "execution_count": 3,
   "metadata": {},
   "outputs": [
    {
     "data": {
      "text/plain": [
       "(17, [12, 2, 19, 9, 17, 5, 6, 18, 0, 17, 6, 3, 12, 1, 14, 4])"
      ]
     },
     "execution_count": 3,
     "metadata": {},
     "output_type": "execute_result"
    }
   ],
   "source": [
    "\"\"\" Xây dựng hàm mát J(w)=∑_(Xi bị misclassifed)(-y_i*sign(w^T*x_i))\n",
    "    Càng xa center thì bị trừng phạt càng nặng\n",
    "    Đạo hàm của hàm mất mát ∇_w J(w;x_i;y_i)=-y_i*x_i\n",
    "    Sử dụng stoschatic gradient descent cập nhật trọng số w=w+η*y_i*y_i\n",
    "    Hàm active function :sign(giá trị>0)=1 and sign(giá trị<0)=-1\n",
    "\"\"\"\n",
    "def sign_function(w, x): \n",
    "    return np.sign(np.dot(w.T, x))\n",
    "\n",
    "def stop_condition(X, y, w): #Điều kiện dừng mảng nhãn trộn được sắp xếp đúng theo từng lớp ban đầu  \n",
    "    return np.array_equal(sign_function(w, X), y) \n",
    "\n",
    "def perceptron(X, y, w_init):\n",
    "    w = [w_init] \n",
    "    N = X_bar.shape[1]# N=20\n",
    "    d = X_bar.shape[0]# d=3\n",
    "    mis_points = []# mảng xem thứ tự bị trộn\n",
    "    while True:\n",
    "        # Trộn dữ thứ tự 20 nhãn \n",
    "        mix_id = np.random.permutation(N)\n",
    "        for i in range(N):\n",
    "            xi = X_bar[:, mix_id[i]].reshape(d, 1)#Lấy xi random R^3x1\n",
    "            yi = y[0, mix_id[i]]# Lấy nhãn ngẫu nhiên \n",
    "            if sign_function(w[-1], xi)[0] != yi: # So sánh hàm active function với nhãn bất kỳ\n",
    "                mis_points.append(mix_id[i])\n",
    "                w_new = w[-1] + yi*xi #Sử dụng gradient descent w[-1] ý là lấy trọng số cuối cùng \n",
    "                w.append(w_new)\n",
    "                \n",
    "        if stop_condition(X_bar, y, w[-1]):\n",
    "            break\n",
    "    return (w, mis_points)\n",
    "\n",
    "d = X_bar.shape[0]\n",
    "w_init = np.random.randn(d, 1)# Tao w0, w1, w2 ngẫu nhiên R^3x1\n",
    "(w,m)= perceptron(X_bar, y, w_init)\n",
    "iterative=len(w)\n",
    "iterative,m\n"
   ]
  },
  {
   "cell_type": "code",
   "execution_count": 25,
   "metadata": {},
   "outputs": [
    {
     "name": "stdout",
     "output_type": "stream",
     "text": [
      "[3.73118467] [-5.81419847] [5.91742545]\n"
     ]
    },
    {
     "data": {
      "text/plain": [
       "[<matplotlib.lines.Line2D at 0x12294d70>]"
      ]
     },
     "execution_count": 25,
     "metadata": {},
     "output_type": "execute_result"
    },
    {
     "data": {
      "image/png": "[encoded data removed]",
      "text/plain": [
       "<Figure size 432x288 with 1 Axes>"
      ]
     },
     "metadata": {
      "needs_background": "light"
     },
     "output_type": "display_data"
    }
   ],
   "source": [
    "# Phương trình đường thẳng w0+x1*w1+x2*w2=0 (bằng 0 để tách ranh giới)\n",
    "def draw_line(w):\n",
    "    w0, w1, w2 = w[0], w[1], w[2]\n",
    "    print(w0,w1,w2)\n",
    "    x1, x2 = 1.5,5\n",
    "    return plt.plot([x1, x2], [-(w1*x1 + w0)/w2, -(w1*x2 + w0)/w2], 'c')\n",
    "plt.plot(X_bar[1,:10],X_bar[2,:10],'r^')\n",
    "plt.plot(X_bar[1,10:],X_bar[2,10:],'bs')\n",
    "plt.xlabel('Iterative: %d' %iterative)\n",
    "draw_line(w[-1])"
   ]
  },
  {
   "cell_type": "markdown",
   "metadata": {},
   "source": [
    "# Sử dụng thư viên scikit - learn"
   ]
  },
  {
   "cell_type": "code",
   "execution_count": 28,
   "metadata": {},
   "outputs": [
    {
     "data": {
      "text/plain": [
       "(array([4.]), array([[-5.90016316,  5.83513953]]))"
      ]
     },
     "execution_count": 28,
     "metadata": {},
     "output_type": "execute_result"
    }
   ],
   "source": [
    "from sklearn.linear_model import Perceptron\n",
    "per=Perceptron()\n",
    "per.fit(X.T,y.T.ravel())\n",
    "per.intercept_,per.coef_"
   ]
  },
  {
   "cell_type": "code",
   "execution_count": 29,
   "metadata": {},
   "outputs": [
    {
     "data": {
      "text/plain": [
       "[<matplotlib.lines.Line2D at 0xf561fd0>]"
      ]
     },
     "execution_count": 29,
     "metadata": {},
     "output_type": "execute_result"
    },
    {
     "data": {
      "image/png": "[encoded data removed]",
      "text/plain": [
       "<Figure size 432x288 with 1 Axes>"
      ]
     },
     "metadata": {
      "needs_background": "light"
     },
     "output_type": "display_data"
    }
   ],
   "source": [
    "x1, x2 = 1.5,5\n",
    "w0, w1, w2 = per.intercept_[0], per.coef_[0][0], per.coef_[0][1]\n",
    "plt.plot(X_bar[1,:10],X_bar[2,:10],'r^')\n",
    "plt.plot(X_bar[1,10:],X_bar[2,10:],'bs')\n",
    "plt.plot([x1, x2], [-(w1*x1 + w0)/w2, -(w1*x2 + w0)/w2], 'c')"
   ]
  },
  {
   "cell_type": "code",
   "execution_count": 38,
   "metadata": {},
   "outputs": [
    {
     "data": {
      "text/plain": [
       "(array([19.87224868]), array([[-29.73613516,  30.05265544]]))"
      ]
     },
     "execution_count": 38,
     "metadata": {},
     "output_type": "execute_result"
    }
   ],
   "source": [
    "from sklearn.linear_model import SGDClassifier\n",
    "sgd_clf=SGDClassifier(loss=\"perceptron\")\n",
    "sgd_clf.fit(X.T,y.T.ravel())\n",
    "sgd_clf.intercept_,sgd_clf.coef_"
   ]
  },
  {
   "cell_type": "code",
   "execution_count": 39,
   "metadata": {},
   "outputs": [
    {
     "data": {
      "image/png": "[encoded data removed]",
      "text/plain": [
       "<Figure size 432x288 with 1 Axes>"
      ]
     },
     "metadata": {
      "needs_background": "light"
     },
     "output_type": "display_data"
    }
   ],
   "source": [
    "x1, x2 = 1.5,5\n",
    "w0, w1, w2 = sgd_clf.intercept_[0], sgd_clf.coef_[0][0], sgd_clf.coef_[0][1]\n",
    "plt.plot(X_bar[1,:10],X_bar[2,:10],'r^')\n",
    "plt.plot(X_bar[1,10:],X_bar[2,10:],'bs')\n",
    "plt.plot([x1, x2], [-(w1*x1 + w0)/w2, -(w1*x2 + w0)/w2], 'c')\n",
    "plt.show()"
   ]
  },
  {
   "cell_type": "code",
   "execution_count": null,
   "metadata": {},
   "outputs": [],
   "source": []
  }
 ],
 "metadata": {
  "kernelspec": {
   "display_name": "Python 3",
   "language": "python",
   "name": "python3"
  },
  "language_info": {
   "codemirror_mode": {
    "name": "ipython",
    "version": 3
   },
   "file_extension": ".py",
   "mimetype": "text/x-python",
   "name": "python",
   "nbconvert_exporter": "python",
   "pygments_lexer": "ipython3",
   "version": "3.7.0"
  }
 },
 "nbformat": 4,
 "nbformat_minor": 2
}
